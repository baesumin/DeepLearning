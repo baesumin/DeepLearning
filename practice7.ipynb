{
  "nbformat": 4,
  "nbformat_minor": 0,
  "metadata": {
    "colab": {
      "name": "practice7.ipynb",
      "provenance": [],
      "authorship_tag": "ABX9TyP744UEdd/lNFlyz6Z/Y8pN",
      "include_colab_link": true
    },
    "kernelspec": {
      "name": "python3",
      "display_name": "Python 3"
    },
    "accelerator": "GPU"
  },
  "cells": [
    {
      "cell_type": "markdown",
      "metadata": {
        "id": "view-in-github",
        "colab_type": "text"
      },
      "source": [
        "<a href=\"https://colab.research.google.com/github/baesumin/DeepLearning/blob/main/practice7.ipynb\" target=\"_parent\"><img src=\"https://colab.research.google.com/assets/colab-badge.svg\" alt=\"Open In Colab\"/></a>"
      ]
    },
    {
      "cell_type": "code",
      "metadata": {
        "id": "EWpW4c5c1psz"
      },
      "source": [
        "import numpy as np"
      ],
      "execution_count": 1,
      "outputs": []
    },
    {
      "cell_type": "code",
      "metadata": {
        "id": "qzMhzdhr1QnU",
        "outputId": "5aa07c92-c03e-4fc7-ec18-000a11ae8687",
        "colab": {
          "base_uri": "https://localhost:8080/",
          "height": 105
        }
      },
      "source": [
        "def myNN(x):\n",
        "  W = np.array([0.2, -0.1, 0.3])\n",
        "  b = 0\n",
        "  seta = 0\n",
        "  v = np.sum(x * W) + b\n",
        "  y = v if v>seta else 0\n",
        "  return y\n",
        "\n",
        "ds = np.array([[0.3,0.1,0.8],[0.5,0.6,0.3],[0.1,0.2,0.1],[0.8,0.7,0.7],[0.5,0.5,0.6]])\n",
        "for i in range(5):\n",
        "  print(myNN(ds[i:]))"
      ],
      "execution_count": 3,
      "outputs": [
        {
          "output_type": "stream",
          "text": [
            "0.98\n",
            "0.69\n",
            "0.56\n",
            "0.53\n",
            "0.22999999999999998\n"
          ],
          "name": "stdout"
        }
      ]
    }
  ]
}