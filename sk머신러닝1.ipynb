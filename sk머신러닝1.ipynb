{
  "nbformat": 4,
  "nbformat_minor": 0,
  "metadata": {
    "colab": {
      "name": "sk머신러닝1",
      "provenance": [],
      "collapsed_sections": [],
      "authorship_tag": "ABX9TyMzqhAWL2I8b5PIJKs8RZ+j",
      "include_colab_link": true
    },
    "kernelspec": {
      "name": "python3",
      "display_name": "Python 3"
    },
    "accelerator": "GPU"
  },
  "cells": [
    {
      "cell_type": "markdown",
      "metadata": {
        "id": "view-in-github",
        "colab_type": "text"
      },
      "source": [
        "<a href=\"https://colab.research.google.com/github/baesumin/DeepLearning/blob/main/sk%EB%A8%B8%EC%8B%A0%EB%9F%AC%EB%8B%9D1.ipynb\" target=\"_parent\"><img src=\"https://colab.research.google.com/assets/colab-badge.svg\" alt=\"Open In Colab\"/></a>"
      ]
    },
    {
      "cell_type": "code",
      "metadata": {
        "colab": {
          "resources": {
            "http://localhost:8080/nbextensions/google.colab/files.js": {
              "data": "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",
              "ok": true,
              "headers": [
                [
                  "content-type",
                  "application/javascript"
                ]
              ],
              "status": 200,
              "status_text": ""
            }
          },
          "base_uri": "https://localhost:8080/",
          "height": 76
        },
        "id": "2sCERZfUezf-",
        "outputId": "b26fd305-e753-4101-c1b5-4926161479fd"
      },
      "source": [
        "from google.colab import files\r\n",
        "uploaded = files.upload()"
      ],
      "execution_count": 1,
      "outputs": [
        {
          "output_type": "display_data",
          "data": {
            "text/html": [
              "\n",
              "     <input type=\"file\" id=\"files-8fad3de8-8352-4195-8641-59edc27f6344\" name=\"files[]\" multiple disabled\n",
              "        style=\"border:none\" />\n",
              "     <output id=\"result-8fad3de8-8352-4195-8641-59edc27f6344\">\n",
              "      Upload widget is only available when the cell has been executed in the\n",
              "      current browser session. Please rerun this cell to enable.\n",
              "      </output>\n",
              "      <script src=\"/nbextensions/google.colab/files.js\"></script> "
            ],
            "text/plain": [
              "<IPython.core.display.HTML object>"
            ]
          },
          "metadata": {
            "tags": []
          }
        },
        {
          "output_type": "stream",
          "text": [
            "Saving train.csv to train.csv\n"
          ],
          "name": "stdout"
        }
      ]
    },
    {
      "cell_type": "code",
      "metadata": {
        "id": "TN0KSSFZfmQa"
      },
      "source": [
        "import pandas as pd\r\n",
        "import numpy as np\r\n",
        "import io\r\n",
        "MyTrainset = pd.read_csv(io.StringIO(uploaded['train.csv'].decode('utf-8')))"
      ],
      "execution_count": 2,
      "outputs": []
    },
    {
      "cell_type": "code",
      "metadata": {
        "colab": {
          "base_uri": "https://localhost:8080/",
          "height": 589
        },
        "id": "9r4ro_tXgjb4",
        "outputId": "e2288a65-2871-42ff-f320-fd267d51c92d"
      },
      "source": [
        "MyTrainset "
      ],
      "execution_count": 3,
      "outputs": [
        {
          "output_type": "execute_result",
          "data": {
            "text/html": [
              "<div>\n",
              "<style scoped>\n",
              "    .dataframe tbody tr th:only-of-type {\n",
              "        vertical-align: middle;\n",
              "    }\n",
              "\n",
              "    .dataframe tbody tr th {\n",
              "        vertical-align: top;\n",
              "    }\n",
              "\n",
              "    .dataframe thead th {\n",
              "        text-align: right;\n",
              "    }\n",
              "</style>\n",
              "<table border=\"1\" class=\"dataframe\">\n",
              "  <thead>\n",
              "    <tr style=\"text-align: right;\">\n",
              "      <th></th>\n",
              "      <th>ID</th>\n",
              "      <th>cr_ID</th>\n",
              "      <th>assembly_time</th>\n",
              "      <th>eq_ID</th>\n",
              "      <th>process_time</th>\n",
              "      <th>ramp</th>\n",
              "      <th>servo_defect</th>\n",
              "      <th>data_defect</th>\n",
              "      <th>status</th>\n",
              "    </tr>\n",
              "  </thead>\n",
              "  <tbody>\n",
              "    <tr>\n",
              "      <th>0</th>\n",
              "      <td>HDDSN00000</td>\n",
              "      <td>CRSTR01L</td>\n",
              "      <td>2015-03-09 09:36:00</td>\n",
              "      <td>EGRWT0113</td>\n",
              "      <td>2015-03-09 11:33:55</td>\n",
              "      <td>4561.0</td>\n",
              "      <td>6083.0</td>\n",
              "      <td>1341.0</td>\n",
              "      <td>pass</td>\n",
              "    </tr>\n",
              "    <tr>\n",
              "      <th>1</th>\n",
              "      <td>HDDSN00001</td>\n",
              "      <td>CRSTR01Q</td>\n",
              "      <td>2015-03-10 02:13:00</td>\n",
              "      <td>EGRWT0102</td>\n",
              "      <td>2015-03-10 03:16:18</td>\n",
              "      <td>3898.0</td>\n",
              "      <td>1819.0</td>\n",
              "      <td>8037.0</td>\n",
              "      <td>pass</td>\n",
              "    </tr>\n",
              "    <tr>\n",
              "      <th>2</th>\n",
              "      <td>HDDSN00002</td>\n",
              "      <td>CRSTR01N</td>\n",
              "      <td>2015-03-06 23:06:00</td>\n",
              "      <td>EGRWT0103</td>\n",
              "      <td>2015-03-07 00:00:12</td>\n",
              "      <td>3016.0</td>\n",
              "      <td>4997.0</td>\n",
              "      <td>1583.0</td>\n",
              "      <td>pass</td>\n",
              "    </tr>\n",
              "    <tr>\n",
              "      <th>3</th>\n",
              "      <td>HDDSN00003</td>\n",
              "      <td>CRSTR01A</td>\n",
              "      <td>2015-03-08 05:10:00</td>\n",
              "      <td>EGRWT0107</td>\n",
              "      <td>2015-03-08 06:36:18</td>\n",
              "      <td>1605.0</td>\n",
              "      <td>4415.0</td>\n",
              "      <td>3345.0</td>\n",
              "      <td>pass</td>\n",
              "    </tr>\n",
              "    <tr>\n",
              "      <th>4</th>\n",
              "      <td>HDDSN00004</td>\n",
              "      <td>CRSTR01C</td>\n",
              "      <td>2015-03-09 06:44:00</td>\n",
              "      <td>EGRWT0113</td>\n",
              "      <td>2015-03-09 09:13:40</td>\n",
              "      <td>1002.0</td>\n",
              "      <td>2394.0</td>\n",
              "      <td>3296.0</td>\n",
              "      <td>pass</td>\n",
              "    </tr>\n",
              "    <tr>\n",
              "      <th>...</th>\n",
              "      <td>...</td>\n",
              "      <td>...</td>\n",
              "      <td>...</td>\n",
              "      <td>...</td>\n",
              "      <td>...</td>\n",
              "      <td>...</td>\n",
              "      <td>...</td>\n",
              "      <td>...</td>\n",
              "      <td>...</td>\n",
              "    </tr>\n",
              "    <tr>\n",
              "      <th>31995</th>\n",
              "      <td>HDDSN39991</td>\n",
              "      <td>CRSTR01Q</td>\n",
              "      <td>2015-03-08 06:02:00</td>\n",
              "      <td>EGRWT0110</td>\n",
              "      <td>2015-03-08 07:31:54</td>\n",
              "      <td>1303.0</td>\n",
              "      <td>2796.0</td>\n",
              "      <td>2057.0</td>\n",
              "      <td>pass</td>\n",
              "    </tr>\n",
              "    <tr>\n",
              "      <th>31996</th>\n",
              "      <td>HDDSN39993</td>\n",
              "      <td>CRSTR01O</td>\n",
              "      <td>2015-03-07 13:06:00</td>\n",
              "      <td>EGRWT0102</td>\n",
              "      <td>2015-03-07 14:03:08</td>\n",
              "      <td>3036.0</td>\n",
              "      <td>5538.0</td>\n",
              "      <td>2382.0</td>\n",
              "      <td>fail</td>\n",
              "    </tr>\n",
              "    <tr>\n",
              "      <th>31997</th>\n",
              "      <td>HDDSN39994</td>\n",
              "      <td>CRSTR01C</td>\n",
              "      <td>2015-03-08 16:14:00</td>\n",
              "      <td>EGRWT0108</td>\n",
              "      <td>2015-03-08 18:55:56</td>\n",
              "      <td>2954.0</td>\n",
              "      <td>3607.0</td>\n",
              "      <td>3133.0</td>\n",
              "      <td>fail</td>\n",
              "    </tr>\n",
              "    <tr>\n",
              "      <th>31998</th>\n",
              "      <td>HDDSN39997</td>\n",
              "      <td>CRSTR01T</td>\n",
              "      <td>2015-03-05 13:11:00</td>\n",
              "      <td>EGRWT0109</td>\n",
              "      <td>2015-03-05 15:21:58</td>\n",
              "      <td>1133.0</td>\n",
              "      <td>3279.0</td>\n",
              "      <td>2410.0</td>\n",
              "      <td>pass</td>\n",
              "    </tr>\n",
              "    <tr>\n",
              "      <th>31999</th>\n",
              "      <td>HDDSN39999</td>\n",
              "      <td>CRSTR01S</td>\n",
              "      <td>2015-03-08 05:31:00</td>\n",
              "      <td>EGRWT0104</td>\n",
              "      <td>2015-03-08 06:55:14</td>\n",
              "      <td>3179.0</td>\n",
              "      <td>4771.0</td>\n",
              "      <td>5244.0</td>\n",
              "      <td>pass</td>\n",
              "    </tr>\n",
              "  </tbody>\n",
              "</table>\n",
              "<p>32000 rows × 9 columns</p>\n",
              "</div>"
            ],
            "text/plain": [
              "               ID     cr_ID  ... data_defect status\n",
              "0      HDDSN00000  CRSTR01L  ...      1341.0   pass\n",
              "1      HDDSN00001  CRSTR01Q  ...      8037.0   pass\n",
              "2      HDDSN00002  CRSTR01N  ...      1583.0   pass\n",
              "3      HDDSN00003  CRSTR01A  ...      3345.0   pass\n",
              "4      HDDSN00004  CRSTR01C  ...      3296.0   pass\n",
              "...           ...       ...  ...         ...    ...\n",
              "31995  HDDSN39991  CRSTR01Q  ...      2057.0   pass\n",
              "31996  HDDSN39993  CRSTR01O  ...      2382.0   fail\n",
              "31997  HDDSN39994  CRSTR01C  ...      3133.0   fail\n",
              "31998  HDDSN39997  CRSTR01T  ...      2410.0   pass\n",
              "31999  HDDSN39999  CRSTR01S  ...      5244.0   pass\n",
              "\n",
              "[32000 rows x 9 columns]"
            ]
          },
          "metadata": {
            "tags": []
          },
          "execution_count": 3
        }
      ]
    },
    {
      "cell_type": "code",
      "metadata": {
        "id": "SC-OcZUcgvWm"
      },
      "source": [
        "df_x = MyTrainset.loc[:,(MyTrainset.columns != 'status') & (MyTrainset.columns != 'ID') & (MyTrainset.columns != 'cr_ID') & (MyTrainset.columns != 'eq_ID')& (MyTrainset.columns != 'assembly_time')& (MyTrainset.columns != 'process_time')]\r\n",
        "df_y = MyTrainset.loc[:,'status']"
      ],
      "execution_count": 34,
      "outputs": []
    },
    {
      "cell_type": "code",
      "metadata": {
        "id": "mh_TG29SlYvQ"
      },
      "source": [
        "from sklearn.preprocessing import LabelEncoder\r\n",
        "encoder = LabelEncoder()"
      ],
      "execution_count": 5,
      "outputs": []
    },
    {
      "cell_type": "code",
      "metadata": {
        "id": "-sI-dUsmlFj3"
      },
      "source": [
        "cr_ID = MyTrainset.loc[:,'cr_ID']\r\n",
        "encoder.fit(cr_ID)\r\n",
        "cr_ID = encoder.transform(cr_ID)\r\n",
        "cr_ID = pd.DataFrame(cr_ID)\r\n",
        "cr_ID.columns = ['cr_ID']\r\n",
        "cr_ID"
      ],
      "execution_count": null,
      "outputs": []
    },
    {
      "cell_type": "code",
      "metadata": {
        "id": "TUUqx_WymqKc"
      },
      "source": [
        "eq_ID = MyTrainset.loc[:,'eq_ID']\r\n",
        "encoder.fit(eq_ID)\r\n",
        "eq_ID = encoder.transform(eq_ID)\r\n",
        "eq_ID = pd.DataFrame(eq_ID)\r\n",
        "eq_ID.columns = ['eq_ID']\r\n",
        "eq_ID"
      ],
      "execution_count": null,
      "outputs": []
    },
    {
      "cell_type": "code",
      "metadata": {
        "colab": {
          "base_uri": "https://localhost:8080/"
        },
        "id": "FSlXG6aHdQa3",
        "outputId": "e564de7e-8438-4aca-f38a-84d782fb6a2c"
      },
      "source": [
        "assembly_time = MyTrainset.loc[:,'assembly_time']\r\n",
        "assembly_time"
      ],
      "execution_count": 8,
      "outputs": [
        {
          "output_type": "execute_result",
          "data": {
            "text/plain": [
              "0        2015-03-09 09:36:00\n",
              "1        2015-03-10 02:13:00\n",
              "2        2015-03-06 23:06:00\n",
              "3        2015-03-08 05:10:00\n",
              "4        2015-03-09 06:44:00\n",
              "                ...         \n",
              "31995    2015-03-08 06:02:00\n",
              "31996    2015-03-07 13:06:00\n",
              "31997    2015-03-08 16:14:00\n",
              "31998    2015-03-05 13:11:00\n",
              "31999    2015-03-08 05:31:00\n",
              "Name: assembly_time, Length: 32000, dtype: object"
            ]
          },
          "metadata": {
            "tags": []
          },
          "execution_count": 8
        }
      ]
    },
    {
      "cell_type": "code",
      "metadata": {
        "colab": {
          "base_uri": "https://localhost:8080/"
        },
        "id": "FIuW57NHnMvj",
        "outputId": "a4b0b3a0-4504-4565-c7e3-e5d1fb5ef080"
      },
      "source": [
        "process_time = MyTrainset.loc[:,'process_time']\r\n",
        "process_time"
      ],
      "execution_count": 9,
      "outputs": [
        {
          "output_type": "execute_result",
          "data": {
            "text/plain": [
              "0        2015-03-09 11:33:55\n",
              "1        2015-03-10 03:16:18\n",
              "2        2015-03-07 00:00:12\n",
              "3        2015-03-08 06:36:18\n",
              "4        2015-03-09 09:13:40\n",
              "                ...         \n",
              "31995    2015-03-08 07:31:54\n",
              "31996    2015-03-07 14:03:08\n",
              "31997    2015-03-08 18:55:56\n",
              "31998    2015-03-05 15:21:58\n",
              "31999    2015-03-08 06:55:14\n",
              "Name: process_time, Length: 32000, dtype: object"
            ]
          },
          "metadata": {
            "tags": []
          },
          "execution_count": 9
        }
      ]
    },
    {
      "cell_type": "code",
      "metadata": {
        "id": "jwlv9dP8r_jC"
      },
      "source": [
        "assembly_time = pd.to_datetime(assembly_time, format=\"%Y/%m/%d %H:%M:%S\")\r\n",
        "process_time = pd.to_datetime(process_time, format=\"%Y/%m/%d %H:%M:%S\")"
      ],
      "execution_count": 10,
      "outputs": []
    },
    {
      "cell_type": "code",
      "metadata": {
        "id": "2Lg76yxV7hd0"
      },
      "source": [
        "from datetime import datetime"
      ],
      "execution_count": 11,
      "outputs": []
    },
    {
      "cell_type": "code",
      "metadata": {
        "colab": {
          "base_uri": "https://localhost:8080/"
        },
        "id": "sVYBcUwt7QP1",
        "outputId": "0d1d3884-6ff1-4db5-fd86-463db79712d9"
      },
      "source": [
        "generalTime = datetime(2015,3,1,0,0,0)\r\n",
        "print(generalTime)"
      ],
      "execution_count": 12,
      "outputs": [
        {
          "output_type": "stream",
          "text": [
            "2015-03-01 00:00:00\n"
          ],
          "name": "stdout"
        }
      ]
    },
    {
      "cell_type": "code",
      "metadata": {
        "id": "IjxwPEkG2mIF"
      },
      "source": [
        "m_assembly_time = assembly_time - generalTime\r\n",
        "m_assembly_time = m_assembly_time.dt.days*86400+m_assembly_time.dt.seconds\r\n",
        "m_assembly_time = pd.DataFrame(m_assembly_time)\r\n",
        "m_assembly_time.columns = ['m_assembly_time']\r\n",
        "m_assembly_time"
      ],
      "execution_count": null,
      "outputs": []
    },
    {
      "cell_type": "markdown",
      "metadata": {
        "id": "qvON-ISnDHm4"
      },
      "source": [
        "![image.png](data:image/png;base64,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)"
      ]
    },
    {
      "cell_type": "code",
      "metadata": {
        "id": "UPmxFzIv8iCy",
        "colab": {
          "base_uri": "https://localhost:8080/",
          "height": 419
        },
        "outputId": "4b3326ec-79d4-49d8-c14c-a160c387e0f3"
      },
      "source": [
        "m_process_time = process_time - generalTime\r\n",
        "m_process_time = m_process_time.dt.days*86400+m_process_time.dt.seconds\r\n",
        "m_process_time = pd.DataFrame(m_process_time)\r\n",
        "m_process_time.columns = ['m_process_time']\r\n",
        "m_process_time"
      ],
      "execution_count": 14,
      "outputs": [
        {
          "output_type": "execute_result",
          "data": {
            "text/html": [
              "<div>\n",
              "<style scoped>\n",
              "    .dataframe tbody tr th:only-of-type {\n",
              "        vertical-align: middle;\n",
              "    }\n",
              "\n",
              "    .dataframe tbody tr th {\n",
              "        vertical-align: top;\n",
              "    }\n",
              "\n",
              "    .dataframe thead th {\n",
              "        text-align: right;\n",
              "    }\n",
              "</style>\n",
              "<table border=\"1\" class=\"dataframe\">\n",
              "  <thead>\n",
              "    <tr style=\"text-align: right;\">\n",
              "      <th></th>\n",
              "      <th>m_process_time</th>\n",
              "    </tr>\n",
              "  </thead>\n",
              "  <tbody>\n",
              "    <tr>\n",
              "      <th>0</th>\n",
              "      <td>732835</td>\n",
              "    </tr>\n",
              "    <tr>\n",
              "      <th>1</th>\n",
              "      <td>789378</td>\n",
              "    </tr>\n",
              "    <tr>\n",
              "      <th>2</th>\n",
              "      <td>518412</td>\n",
              "    </tr>\n",
              "    <tr>\n",
              "      <th>3</th>\n",
              "      <td>628578</td>\n",
              "    </tr>\n",
              "    <tr>\n",
              "      <th>4</th>\n",
              "      <td>724420</td>\n",
              "    </tr>\n",
              "    <tr>\n",
              "      <th>...</th>\n",
              "      <td>...</td>\n",
              "    </tr>\n",
              "    <tr>\n",
              "      <th>31995</th>\n",
              "      <td>631914</td>\n",
              "    </tr>\n",
              "    <tr>\n",
              "      <th>31996</th>\n",
              "      <td>568988</td>\n",
              "    </tr>\n",
              "    <tr>\n",
              "      <th>31997</th>\n",
              "      <td>672956</td>\n",
              "    </tr>\n",
              "    <tr>\n",
              "      <th>31998</th>\n",
              "      <td>400918</td>\n",
              "    </tr>\n",
              "    <tr>\n",
              "      <th>31999</th>\n",
              "      <td>629714</td>\n",
              "    </tr>\n",
              "  </tbody>\n",
              "</table>\n",
              "<p>32000 rows × 1 columns</p>\n",
              "</div>"
            ],
            "text/plain": [
              "       m_process_time\n",
              "0              732835\n",
              "1              789378\n",
              "2              518412\n",
              "3              628578\n",
              "4              724420\n",
              "...               ...\n",
              "31995          631914\n",
              "31996          568988\n",
              "31997          672956\n",
              "31998          400918\n",
              "31999          629714\n",
              "\n",
              "[32000 rows x 1 columns]"
            ]
          },
          "metadata": {
            "tags": []
          },
          "execution_count": 14
        }
      ]
    },
    {
      "cell_type": "code",
      "metadata": {
        "id": "48xmyHdyqbI4",
        "colab": {
          "base_uri": "https://localhost:8080/",
          "height": 419
        },
        "outputId": "ec8cf678-c388-4ed3-ff6f-e5da4a5f219f"
      },
      "source": [
        "timeDiffer = process_time - assembly_time\r\n",
        "timeDiffer = timeDiffer.dt.seconds\r\n",
        "timeDiffer = pd.DataFrame(timeDiffer)\r\n",
        "timeDiffer.columns = ['timeDiffer']\r\n",
        "timeDiffer"
      ],
      "execution_count": 15,
      "outputs": [
        {
          "output_type": "execute_result",
          "data": {
            "text/html": [
              "<div>\n",
              "<style scoped>\n",
              "    .dataframe tbody tr th:only-of-type {\n",
              "        vertical-align: middle;\n",
              "    }\n",
              "\n",
              "    .dataframe tbody tr th {\n",
              "        vertical-align: top;\n",
              "    }\n",
              "\n",
              "    .dataframe thead th {\n",
              "        text-align: right;\n",
              "    }\n",
              "</style>\n",
              "<table border=\"1\" class=\"dataframe\">\n",
              "  <thead>\n",
              "    <tr style=\"text-align: right;\">\n",
              "      <th></th>\n",
              "      <th>timeDiffer</th>\n",
              "    </tr>\n",
              "  </thead>\n",
              "  <tbody>\n",
              "    <tr>\n",
              "      <th>0</th>\n",
              "      <td>7075</td>\n",
              "    </tr>\n",
              "    <tr>\n",
              "      <th>1</th>\n",
              "      <td>3798</td>\n",
              "    </tr>\n",
              "    <tr>\n",
              "      <th>2</th>\n",
              "      <td>3252</td>\n",
              "    </tr>\n",
              "    <tr>\n",
              "      <th>3</th>\n",
              "      <td>5178</td>\n",
              "    </tr>\n",
              "    <tr>\n",
              "      <th>4</th>\n",
              "      <td>8980</td>\n",
              "    </tr>\n",
              "    <tr>\n",
              "      <th>...</th>\n",
              "      <td>...</td>\n",
              "    </tr>\n",
              "    <tr>\n",
              "      <th>31995</th>\n",
              "      <td>5394</td>\n",
              "    </tr>\n",
              "    <tr>\n",
              "      <th>31996</th>\n",
              "      <td>3428</td>\n",
              "    </tr>\n",
              "    <tr>\n",
              "      <th>31997</th>\n",
              "      <td>9716</td>\n",
              "    </tr>\n",
              "    <tr>\n",
              "      <th>31998</th>\n",
              "      <td>7858</td>\n",
              "    </tr>\n",
              "    <tr>\n",
              "      <th>31999</th>\n",
              "      <td>5054</td>\n",
              "    </tr>\n",
              "  </tbody>\n",
              "</table>\n",
              "<p>32000 rows × 1 columns</p>\n",
              "</div>"
            ],
            "text/plain": [
              "       timeDiffer\n",
              "0            7075\n",
              "1            3798\n",
              "2            3252\n",
              "3            5178\n",
              "4            8980\n",
              "...           ...\n",
              "31995        5394\n",
              "31996        3428\n",
              "31997        9716\n",
              "31998        7858\n",
              "31999        5054\n",
              "\n",
              "[32000 rows x 1 columns]"
            ]
          },
          "metadata": {
            "tags": []
          },
          "execution_count": 15
        }
      ]
    },
    {
      "cell_type": "code",
      "metadata": {
        "id": "85NFS19ScPIe"
      },
      "source": [
        "ramp = MyTrainset.loc[:,'ramp']\r\n",
        "servo = MyTrainset.loc[:,'servo_defect']\r\n",
        "data = MyTrainset.loc[:,'data_defect']"
      ],
      "execution_count": null,
      "outputs": []
    },
    {
      "cell_type": "code",
      "metadata": {
        "id": "OQ3xXi8DcyC9"
      },
      "source": [
        "rampServo = servo - ramp\r\n",
        "rampServo = pd.DataFrame(rampServo)\r\n",
        "rampServo.columns = ['rampServo']\r\n",
        "\r\n",
        "rampData = servo - data\r\n",
        "rampData = pd.DataFrame(rampData)\r\n",
        "rampData.columns = ['rampData']\r\n",
        "\r\n",
        "servoData = data - servo\r\n",
        "servoData = pd.DataFrame(servoData)\r\n",
        "servoData.columns = ['servoData']"
      ],
      "execution_count": 19,
      "outputs": []
    },
    {
      "cell_type": "code",
      "metadata": {
        "colab": {
          "base_uri": "https://localhost:8080/",
          "height": 419
        },
        "id": "Bs7YdAM01cW_",
        "outputId": "d50ab49a-19eb-49b7-bde8-672fb45b1bbc"
      },
      "source": [
        "df_x = pd.concat([df_x,cr_ID,eq_ID,timeDiffer,m_assembly_time,m_process_time], axis=1)\r\n",
        "df_x"
      ],
      "execution_count": 35,
      "outputs": [
        {
          "output_type": "execute_result",
          "data": {
            "text/html": [
              "<div>\n",
              "<style scoped>\n",
              "    .dataframe tbody tr th:only-of-type {\n",
              "        vertical-align: middle;\n",
              "    }\n",
              "\n",
              "    .dataframe tbody tr th {\n",
              "        vertical-align: top;\n",
              "    }\n",
              "\n",
              "    .dataframe thead th {\n",
              "        text-align: right;\n",
              "    }\n",
              "</style>\n",
              "<table border=\"1\" class=\"dataframe\">\n",
              "  <thead>\n",
              "    <tr style=\"text-align: right;\">\n",
              "      <th></th>\n",
              "      <th>ramp</th>\n",
              "      <th>servo_defect</th>\n",
              "      <th>data_defect</th>\n",
              "      <th>cr_ID</th>\n",
              "      <th>eq_ID</th>\n",
              "      <th>timeDiffer</th>\n",
              "      <th>m_assembly_time</th>\n",
              "      <th>m_process_time</th>\n",
              "    </tr>\n",
              "  </thead>\n",
              "  <tbody>\n",
              "    <tr>\n",
              "      <th>0</th>\n",
              "      <td>4561.0</td>\n",
              "      <td>6083.0</td>\n",
              "      <td>1341.0</td>\n",
              "      <td>11</td>\n",
              "      <td>13</td>\n",
              "      <td>7075</td>\n",
              "      <td>725760</td>\n",
              "      <td>732835</td>\n",
              "    </tr>\n",
              "    <tr>\n",
              "      <th>1</th>\n",
              "      <td>3898.0</td>\n",
              "      <td>1819.0</td>\n",
              "      <td>8037.0</td>\n",
              "      <td>16</td>\n",
              "      <td>2</td>\n",
              "      <td>3798</td>\n",
              "      <td>785580</td>\n",
              "      <td>789378</td>\n",
              "    </tr>\n",
              "    <tr>\n",
              "      <th>2</th>\n",
              "      <td>3016.0</td>\n",
              "      <td>4997.0</td>\n",
              "      <td>1583.0</td>\n",
              "      <td>13</td>\n",
              "      <td>3</td>\n",
              "      <td>3252</td>\n",
              "      <td>515160</td>\n",
              "      <td>518412</td>\n",
              "    </tr>\n",
              "    <tr>\n",
              "      <th>3</th>\n",
              "      <td>1605.0</td>\n",
              "      <td>4415.0</td>\n",
              "      <td>3345.0</td>\n",
              "      <td>0</td>\n",
              "      <td>7</td>\n",
              "      <td>5178</td>\n",
              "      <td>623400</td>\n",
              "      <td>628578</td>\n",
              "    </tr>\n",
              "    <tr>\n",
              "      <th>4</th>\n",
              "      <td>1002.0</td>\n",
              "      <td>2394.0</td>\n",
              "      <td>3296.0</td>\n",
              "      <td>2</td>\n",
              "      <td>13</td>\n",
              "      <td>8980</td>\n",
              "      <td>715440</td>\n",
              "      <td>724420</td>\n",
              "    </tr>\n",
              "    <tr>\n",
              "      <th>...</th>\n",
              "      <td>...</td>\n",
              "      <td>...</td>\n",
              "      <td>...</td>\n",
              "      <td>...</td>\n",
              "      <td>...</td>\n",
              "      <td>...</td>\n",
              "      <td>...</td>\n",
              "      <td>...</td>\n",
              "    </tr>\n",
              "    <tr>\n",
              "      <th>31995</th>\n",
              "      <td>1303.0</td>\n",
              "      <td>2796.0</td>\n",
              "      <td>2057.0</td>\n",
              "      <td>16</td>\n",
              "      <td>10</td>\n",
              "      <td>5394</td>\n",
              "      <td>626520</td>\n",
              "      <td>631914</td>\n",
              "    </tr>\n",
              "    <tr>\n",
              "      <th>31996</th>\n",
              "      <td>3036.0</td>\n",
              "      <td>5538.0</td>\n",
              "      <td>2382.0</td>\n",
              "      <td>14</td>\n",
              "      <td>2</td>\n",
              "      <td>3428</td>\n",
              "      <td>565560</td>\n",
              "      <td>568988</td>\n",
              "    </tr>\n",
              "    <tr>\n",
              "      <th>31997</th>\n",
              "      <td>2954.0</td>\n",
              "      <td>3607.0</td>\n",
              "      <td>3133.0</td>\n",
              "      <td>2</td>\n",
              "      <td>8</td>\n",
              "      <td>9716</td>\n",
              "      <td>663240</td>\n",
              "      <td>672956</td>\n",
              "    </tr>\n",
              "    <tr>\n",
              "      <th>31998</th>\n",
              "      <td>1133.0</td>\n",
              "      <td>3279.0</td>\n",
              "      <td>2410.0</td>\n",
              "      <td>19</td>\n",
              "      <td>9</td>\n",
              "      <td>7858</td>\n",
              "      <td>393060</td>\n",
              "      <td>400918</td>\n",
              "    </tr>\n",
              "    <tr>\n",
              "      <th>31999</th>\n",
              "      <td>3179.0</td>\n",
              "      <td>4771.0</td>\n",
              "      <td>5244.0</td>\n",
              "      <td>18</td>\n",
              "      <td>4</td>\n",
              "      <td>5054</td>\n",
              "      <td>624660</td>\n",
              "      <td>629714</td>\n",
              "    </tr>\n",
              "  </tbody>\n",
              "</table>\n",
              "<p>32000 rows × 8 columns</p>\n",
              "</div>"
            ],
            "text/plain": [
              "         ramp  servo_defect  ...  m_assembly_time  m_process_time\n",
              "0      4561.0        6083.0  ...           725760          732835\n",
              "1      3898.0        1819.0  ...           785580          789378\n",
              "2      3016.0        4997.0  ...           515160          518412\n",
              "3      1605.0        4415.0  ...           623400          628578\n",
              "4      1002.0        2394.0  ...           715440          724420\n",
              "...       ...           ...  ...              ...             ...\n",
              "31995  1303.0        2796.0  ...           626520          631914\n",
              "31996  3036.0        5538.0  ...           565560          568988\n",
              "31997  2954.0        3607.0  ...           663240          672956\n",
              "31998  1133.0        3279.0  ...           393060          400918\n",
              "31999  3179.0        4771.0  ...           624660          629714\n",
              "\n",
              "[32000 rows x 8 columns]"
            ]
          },
          "metadata": {
            "tags": []
          },
          "execution_count": 35
        }
      ]
    },
    {
      "cell_type": "code",
      "metadata": {
        "colab": {
          "base_uri": "https://localhost:8080/",
          "height": 439
        },
        "id": "YUwJPJF7PxJj",
        "outputId": "4873bce8-eba1-4fb8-d9cd-ab4f303cc956"
      },
      "source": [
        "tmp_x = []\r\n",
        "tmp_x = pd.concat([df_x,cr_ID,eq_ID,timeDiffer,m_assembly_time,m_process_time,rampServo,rampData], axis=1)\r\n",
        "tmp_x"
      ],
      "execution_count": 29,
      "outputs": [
        {
          "output_type": "execute_result",
          "data": {
            "text/html": [
              "<div>\n",
              "<style scoped>\n",
              "    .dataframe tbody tr th:only-of-type {\n",
              "        vertical-align: middle;\n",
              "    }\n",
              "\n",
              "    .dataframe tbody tr th {\n",
              "        vertical-align: top;\n",
              "    }\n",
              "\n",
              "    .dataframe thead th {\n",
              "        text-align: right;\n",
              "    }\n",
              "</style>\n",
              "<table border=\"1\" class=\"dataframe\">\n",
              "  <thead>\n",
              "    <tr style=\"text-align: right;\">\n",
              "      <th></th>\n",
              "      <th>ramp</th>\n",
              "      <th>servo_defect</th>\n",
              "      <th>data_defect</th>\n",
              "      <th>cr_ID</th>\n",
              "      <th>eq_ID</th>\n",
              "      <th>timeDiffer</th>\n",
              "      <th>m_assembly_time</th>\n",
              "      <th>m_process_time</th>\n",
              "      <th>rampServo</th>\n",
              "      <th>rampData</th>\n",
              "    </tr>\n",
              "  </thead>\n",
              "  <tbody>\n",
              "    <tr>\n",
              "      <th>0</th>\n",
              "      <td>4561.0</td>\n",
              "      <td>6083.0</td>\n",
              "      <td>1341.0</td>\n",
              "      <td>11</td>\n",
              "      <td>13</td>\n",
              "      <td>7075</td>\n",
              "      <td>725760</td>\n",
              "      <td>732835</td>\n",
              "      <td>1522.0</td>\n",
              "      <td>4742.0</td>\n",
              "    </tr>\n",
              "    <tr>\n",
              "      <th>1</th>\n",
              "      <td>3898.0</td>\n",
              "      <td>1819.0</td>\n",
              "      <td>8037.0</td>\n",
              "      <td>16</td>\n",
              "      <td>2</td>\n",
              "      <td>3798</td>\n",
              "      <td>785580</td>\n",
              "      <td>789378</td>\n",
              "      <td>-2079.0</td>\n",
              "      <td>-6218.0</td>\n",
              "    </tr>\n",
              "    <tr>\n",
              "      <th>2</th>\n",
              "      <td>3016.0</td>\n",
              "      <td>4997.0</td>\n",
              "      <td>1583.0</td>\n",
              "      <td>13</td>\n",
              "      <td>3</td>\n",
              "      <td>3252</td>\n",
              "      <td>515160</td>\n",
              "      <td>518412</td>\n",
              "      <td>1981.0</td>\n",
              "      <td>3414.0</td>\n",
              "    </tr>\n",
              "    <tr>\n",
              "      <th>3</th>\n",
              "      <td>1605.0</td>\n",
              "      <td>4415.0</td>\n",
              "      <td>3345.0</td>\n",
              "      <td>0</td>\n",
              "      <td>7</td>\n",
              "      <td>5178</td>\n",
              "      <td>623400</td>\n",
              "      <td>628578</td>\n",
              "      <td>2810.0</td>\n",
              "      <td>1070.0</td>\n",
              "    </tr>\n",
              "    <tr>\n",
              "      <th>4</th>\n",
              "      <td>1002.0</td>\n",
              "      <td>2394.0</td>\n",
              "      <td>3296.0</td>\n",
              "      <td>2</td>\n",
              "      <td>13</td>\n",
              "      <td>8980</td>\n",
              "      <td>715440</td>\n",
              "      <td>724420</td>\n",
              "      <td>1392.0</td>\n",
              "      <td>-902.0</td>\n",
              "    </tr>\n",
              "    <tr>\n",
              "      <th>...</th>\n",
              "      <td>...</td>\n",
              "      <td>...</td>\n",
              "      <td>...</td>\n",
              "      <td>...</td>\n",
              "      <td>...</td>\n",
              "      <td>...</td>\n",
              "      <td>...</td>\n",
              "      <td>...</td>\n",
              "      <td>...</td>\n",
              "      <td>...</td>\n",
              "    </tr>\n",
              "    <tr>\n",
              "      <th>31995</th>\n",
              "      <td>1303.0</td>\n",
              "      <td>2796.0</td>\n",
              "      <td>2057.0</td>\n",
              "      <td>16</td>\n",
              "      <td>10</td>\n",
              "      <td>5394</td>\n",
              "      <td>626520</td>\n",
              "      <td>631914</td>\n",
              "      <td>1493.0</td>\n",
              "      <td>739.0</td>\n",
              "    </tr>\n",
              "    <tr>\n",
              "      <th>31996</th>\n",
              "      <td>3036.0</td>\n",
              "      <td>5538.0</td>\n",
              "      <td>2382.0</td>\n",
              "      <td>14</td>\n",
              "      <td>2</td>\n",
              "      <td>3428</td>\n",
              "      <td>565560</td>\n",
              "      <td>568988</td>\n",
              "      <td>2502.0</td>\n",
              "      <td>3156.0</td>\n",
              "    </tr>\n",
              "    <tr>\n",
              "      <th>31997</th>\n",
              "      <td>2954.0</td>\n",
              "      <td>3607.0</td>\n",
              "      <td>3133.0</td>\n",
              "      <td>2</td>\n",
              "      <td>8</td>\n",
              "      <td>9716</td>\n",
              "      <td>663240</td>\n",
              "      <td>672956</td>\n",
              "      <td>653.0</td>\n",
              "      <td>474.0</td>\n",
              "    </tr>\n",
              "    <tr>\n",
              "      <th>31998</th>\n",
              "      <td>1133.0</td>\n",
              "      <td>3279.0</td>\n",
              "      <td>2410.0</td>\n",
              "      <td>19</td>\n",
              "      <td>9</td>\n",
              "      <td>7858</td>\n",
              "      <td>393060</td>\n",
              "      <td>400918</td>\n",
              "      <td>2146.0</td>\n",
              "      <td>869.0</td>\n",
              "    </tr>\n",
              "    <tr>\n",
              "      <th>31999</th>\n",
              "      <td>3179.0</td>\n",
              "      <td>4771.0</td>\n",
              "      <td>5244.0</td>\n",
              "      <td>18</td>\n",
              "      <td>4</td>\n",
              "      <td>5054</td>\n",
              "      <td>624660</td>\n",
              "      <td>629714</td>\n",
              "      <td>1592.0</td>\n",
              "      <td>-473.0</td>\n",
              "    </tr>\n",
              "  </tbody>\n",
              "</table>\n",
              "<p>32000 rows × 10 columns</p>\n",
              "</div>"
            ],
            "text/plain": [
              "         ramp  servo_defect  data_defect  ...  m_process_time  rampServo  rampData\n",
              "0      4561.0        6083.0       1341.0  ...          732835     1522.0    4742.0\n",
              "1      3898.0        1819.0       8037.0  ...          789378    -2079.0   -6218.0\n",
              "2      3016.0        4997.0       1583.0  ...          518412     1981.0    3414.0\n",
              "3      1605.0        4415.0       3345.0  ...          628578     2810.0    1070.0\n",
              "4      1002.0        2394.0       3296.0  ...          724420     1392.0    -902.0\n",
              "...       ...           ...          ...  ...             ...        ...       ...\n",
              "31995  1303.0        2796.0       2057.0  ...          631914     1493.0     739.0\n",
              "31996  3036.0        5538.0       2382.0  ...          568988     2502.0    3156.0\n",
              "31997  2954.0        3607.0       3133.0  ...          672956      653.0     474.0\n",
              "31998  1133.0        3279.0       2410.0  ...          400918     2146.0     869.0\n",
              "31999  3179.0        4771.0       5244.0  ...          629714     1592.0    -473.0\n",
              "\n",
              "[32000 rows x 10 columns]"
            ]
          },
          "metadata": {
            "tags": []
          },
          "execution_count": 29
        }
      ]
    },
    {
      "cell_type": "code",
      "metadata": {
        "id": "qDnS-PmJyE8P"
      },
      "source": [
        "from sklearn import model_selection\r\n",
        "from sklearn.model_selection import cross_val_score\r\n",
        "from sklearn.linear_model import LogisticRegression\r\n",
        "from sklearn.ensemble import RandomForestClassifier\r\n",
        "from sklearn.neighbors import KNeighborsClassifier\r\n",
        "from sklearn.tree import DecisionTreeClassifier\r\n",
        "from sklearn.ensemble import GradientBoostingClassifier\r\n",
        "from sklearn.ensemble import VotingClassifier\r\n",
        "from lightgbm import LGBMClassifier, plot_importance\r\n",
        "from xgboost import XGBClassifier #\r\n",
        "from sklearn.model_selection import StratifiedKFold, KFold #\r\n",
        "from sklearn.svm import SVC"
      ],
      "execution_count": 124,
      "outputs": []
    },
    {
      "cell_type": "code",
      "metadata": {
        "colab": {
          "base_uri": "https://localhost:8080/"
        },
        "id": "dZjOQdxgLbmY",
        "outputId": "ab2a291c-1545-4059-d900-978c7c5763a3"
      },
      "source": [
        "!pip install catboost\r\n",
        "from catboost import CatBoostClassifier, Pool, cv"
      ],
      "execution_count": 125,
      "outputs": [
        {
          "output_type": "stream",
          "text": [
            "Collecting catboost\n",
            "\u001b[?25l  Downloading https://files.pythonhosted.org/packages/20/37/bc4e0ddc30c07a96482abf1de7ed1ca54e59bba2026a33bca6d2ef286e5b/catboost-0.24.4-cp36-none-manylinux1_x86_64.whl (65.7MB)\n",
            "\u001b[K     |████████████████████████████████| 65.8MB 43kB/s \n",
            "\u001b[?25hRequirement already satisfied: numpy>=1.16.0 in /usr/local/lib/python3.6/dist-packages (from catboost) (1.19.5)\n",
            "Requirement already satisfied: six in /usr/local/lib/python3.6/dist-packages (from catboost) (1.15.0)\n",
            "Requirement already satisfied: scipy in /usr/local/lib/python3.6/dist-packages (from catboost) (1.4.1)\n",
            "Requirement already satisfied: plotly in /usr/local/lib/python3.6/dist-packages (from catboost) (4.4.1)\n",
            "Requirement already satisfied: matplotlib in /usr/local/lib/python3.6/dist-packages (from catboost) (3.2.2)\n",
            "Requirement already satisfied: pandas>=0.24.0 in /usr/local/lib/python3.6/dist-packages (from catboost) (1.1.5)\n",
            "Requirement already satisfied: graphviz in /usr/local/lib/python3.6/dist-packages (from catboost) (0.10.1)\n",
            "Requirement already satisfied: retrying>=1.3.3 in /usr/local/lib/python3.6/dist-packages (from plotly->catboost) (1.3.3)\n",
            "Requirement already satisfied: python-dateutil>=2.1 in /usr/local/lib/python3.6/dist-packages (from matplotlib->catboost) (2.8.1)\n",
            "Requirement already satisfied: pyparsing!=2.0.4,!=2.1.2,!=2.1.6,>=2.0.1 in /usr/local/lib/python3.6/dist-packages (from matplotlib->catboost) (2.4.7)\n",
            "Requirement already satisfied: kiwisolver>=1.0.1 in /usr/local/lib/python3.6/dist-packages (from matplotlib->catboost) (1.3.1)\n",
            "Requirement already satisfied: cycler>=0.10 in /usr/local/lib/python3.6/dist-packages (from matplotlib->catboost) (0.10.0)\n",
            "Requirement already satisfied: pytz>=2017.2 in /usr/local/lib/python3.6/dist-packages (from pandas>=0.24.0->catboost) (2018.9)\n",
            "Installing collected packages: catboost\n",
            "Successfully installed catboost-0.24.4\n"
          ],
          "name": "stdout"
        }
      ]
    },
    {
      "cell_type": "code",
      "metadata": {
        "id": "lXXpM3zdg1Dl"
      },
      "source": [
        "results = []\r\n",
        "names = []\r\n",
        "scoring = 'accuracy'\r\n",
        "models = []\r\n",
        "models.append(('RF', RandomForestClassifier()))\r\n",
        "models.append(('LGBM',LGBMClassifier()))\r\n",
        "models.append(('XGB',XGBClassifier()))\r\n",
        "#models.append(('lr',LogisticRegression()))\r\n",
        "#models.append(('cb',CatBoostClassifier()))\r\n",
        "for name, model in models:\r\n",
        "  kfold= model_selection.KFold(n_splits=5, shuffle=True)\r\n",
        "  cv_results= model_selection.cross_val_score(model, df_x, df_y, cv=kfold, scoring=scoring)\r\n",
        "  results.append(cv_results)\r\n",
        "  names.append(name)\r\n",
        "  msg = \"%s: %f (%f)\" % (name, cv_results.mean(),   cv_results.std())\r\n",
        "  print(msg)"
      ],
      "execution_count": null,
      "outputs": []
    },
    {
      "cell_type": "markdown",
      "metadata": {
        "id": "Enxf9ipfQdb7"
      },
      "source": [
        "![image.png](data:image/png;base64,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)"
      ]
    },
    {
      "cell_type": "code",
      "metadata": {
        "id": "6Rx5Fjx94dXG"
      },
      "source": [
        "from scipy.stats import mode"
      ],
      "execution_count": 46,
      "outputs": []
    },
    {
      "cell_type": "code",
      "metadata": {
        "id": "lumoatXfjsH5"
      },
      "source": [
        "def get_stacking_data(model, X_train, y_train, X_test, n_folds=5):\r\n",
        "  kfold = KFold(n_splits = n_folds)\r\n",
        "\r\n",
        "  train_fold_predict = np.zeros((X_train.shape[0], 1),str)\r\n",
        "  \r\n",
        "  test_predict = np.zeros((X_test.shape[0], n_folds),str)\r\n",
        "  print(\"model : \", model.__class__.__name__)\r\n",
        "\r\n",
        "  for cnt, (train_index, valid_index) in enumerate(kfold.split(X_train)):\r\n",
        "    X_train_ = X_train.iloc[train_index]\r\n",
        "    y_train_ = y_train.iloc[train_index]\r\n",
        "    X_validation = X_train.iloc[valid_index]\r\n",
        "\r\n",
        "    \r\n",
        "    #학습\r\n",
        "    model.fit(X_train_, y_train_)\r\n",
        "    \r\n",
        "    #해당 폴드에서 학습된 모델에다가 검증 데이터(X_validaton)로 예측 후 저장\r\n",
        "    train_fold_predict[valid_index, :] = model.predict(X_validation).reshape(-1, 1)\r\n",
        "    \r\n",
        "    #해당 폴드에서 생성된 모델에게 원본 테스트 데이터(X_test)를 이용해서 예측을 수행하고 저장\r\n",
        "    test_predict[:, cnt] = model.predict(X_test)\r\n",
        "  #print(test_predict.shape)\r\n",
        "  #print(test_predict)\r\n",
        "  tmp = np.zeros((len(test_predict),1),str)\r\n",
        "  \r\n",
        "  for i in range(0,len(test_predict)):\r\n",
        "    tmp[i] = mode(test_predict[i])[0]\r\n",
        "  print(tmp.shape)\r\n",
        "  #for문이 끝나면 test_pred는 평균을 내서 하나로 합친다.\r\n",
        "  test_predict_mean = tmp\r\n",
        "\r\n",
        "  return train_fold_predict, test_predict_mean"
      ],
      "execution_count": 38,
      "outputs": []
    },
    {
      "cell_type": "code",
      "metadata": {
        "colab": {
          "base_uri": "https://localhost:8080/"
        },
        "id": "mOPk6RsVmM4e",
        "outputId": "ae00ca9c-d766-4017-bd13-b9afcac4e1b0"
      },
      "source": [
        "rf_train, rf_test = get_stacking_data(RandomForestClassifier(), df_x, df_y, test_x)\r\n",
        "xgb_train, xgb_test = get_stacking_data(XGBClassifier(), df_x, df_y, test_x)\r\n",
        "lgbm_train, lgbm_test = get_stacking_data(LGBMClassifier(), df_x, df_y, test_x)"
      ],
      "execution_count": 47,
      "outputs": [
        {
          "output_type": "stream",
          "text": [
            "model :  RandomForestClassifier\n",
            "(8000, 1)\n",
            "model :  XGBClassifier\n",
            "(8000, 1)\n",
            "model :  LGBMClassifier\n",
            "(8000, 1)\n"
          ],
          "name": "stdout"
        }
      ]
    },
    {
      "cell_type": "code",
      "metadata": {
        "id": "q5VZaqmmWGZA"
      },
      "source": [
        "new_X_train = np.concatenate((rf_train, xgb_train, lgbm_train), axis = 1)\r\n",
        "new_X_test = np.concatenate((rf_test, xgb_test, lgbm_test), axis = 1)"
      ],
      "execution_count": 78,
      "outputs": []
    },
    {
      "cell_type": "code",
      "metadata": {
        "id": "etSYINjQg48Q",
        "colab": {
          "base_uri": "https://localhost:8080/",
          "height": 419
        },
        "outputId": "f02d93a6-402b-4ebb-876f-66b393cf7874"
      },
      "source": [
        "new_X_test = pd.DataFrame(new_X_test)\r\n",
        "new_X_test"
      ],
      "execution_count": 91,
      "outputs": [
        {
          "output_type": "execute_result",
          "data": {
            "text/html": [
              "<div>\n",
              "<style scoped>\n",
              "    .dataframe tbody tr th:only-of-type {\n",
              "        vertical-align: middle;\n",
              "    }\n",
              "\n",
              "    .dataframe tbody tr th {\n",
              "        vertical-align: top;\n",
              "    }\n",
              "\n",
              "    .dataframe thead th {\n",
              "        text-align: right;\n",
              "    }\n",
              "</style>\n",
              "<table border=\"1\" class=\"dataframe\">\n",
              "  <thead>\n",
              "    <tr style=\"text-align: right;\">\n",
              "      <th></th>\n",
              "      <th>0</th>\n",
              "      <th>1</th>\n",
              "      <th>2</th>\n",
              "    </tr>\n",
              "  </thead>\n",
              "  <tbody>\n",
              "    <tr>\n",
              "      <th>0</th>\n",
              "      <td>p</td>\n",
              "      <td>p</td>\n",
              "      <td>p</td>\n",
              "    </tr>\n",
              "    <tr>\n",
              "      <th>1</th>\n",
              "      <td>p</td>\n",
              "      <td>p</td>\n",
              "      <td>p</td>\n",
              "    </tr>\n",
              "    <tr>\n",
              "      <th>2</th>\n",
              "      <td>p</td>\n",
              "      <td>p</td>\n",
              "      <td>p</td>\n",
              "    </tr>\n",
              "    <tr>\n",
              "      <th>3</th>\n",
              "      <td>p</td>\n",
              "      <td>p</td>\n",
              "      <td>p</td>\n",
              "    </tr>\n",
              "    <tr>\n",
              "      <th>4</th>\n",
              "      <td>f</td>\n",
              "      <td>f</td>\n",
              "      <td>f</td>\n",
              "    </tr>\n",
              "    <tr>\n",
              "      <th>...</th>\n",
              "      <td>...</td>\n",
              "      <td>...</td>\n",
              "      <td>...</td>\n",
              "    </tr>\n",
              "    <tr>\n",
              "      <th>7995</th>\n",
              "      <td>p</td>\n",
              "      <td>p</td>\n",
              "      <td>p</td>\n",
              "    </tr>\n",
              "    <tr>\n",
              "      <th>7996</th>\n",
              "      <td>f</td>\n",
              "      <td>f</td>\n",
              "      <td>f</td>\n",
              "    </tr>\n",
              "    <tr>\n",
              "      <th>7997</th>\n",
              "      <td>p</td>\n",
              "      <td>p</td>\n",
              "      <td>p</td>\n",
              "    </tr>\n",
              "    <tr>\n",
              "      <th>7998</th>\n",
              "      <td>f</td>\n",
              "      <td>f</td>\n",
              "      <td>f</td>\n",
              "    </tr>\n",
              "    <tr>\n",
              "      <th>7999</th>\n",
              "      <td>p</td>\n",
              "      <td>p</td>\n",
              "      <td>p</td>\n",
              "    </tr>\n",
              "  </tbody>\n",
              "</table>\n",
              "<p>8000 rows × 3 columns</p>\n",
              "</div>"
            ],
            "text/plain": [
              "      0  1  2\n",
              "0     p  p  p\n",
              "1     p  p  p\n",
              "2     p  p  p\n",
              "3     p  p  p\n",
              "4     f  f  f\n",
              "...  .. .. ..\n",
              "7995  p  p  p\n",
              "7996  f  f  f\n",
              "7997  p  p  p\n",
              "7998  f  f  f\n",
              "7999  p  p  p\n",
              "\n",
              "[8000 rows x 3 columns]"
            ]
          },
          "metadata": {
            "tags": []
          },
          "execution_count": 91
        }
      ]
    },
    {
      "cell_type": "code",
      "metadata": {
        "id": "b9m-LJUOoCyT",
        "colab": {
          "base_uri": "https://localhost:8080/",
          "height": 419
        },
        "outputId": "1e9aa25b-fbd4-4836-be6c-57ccdd9558ee"
      },
      "source": [
        "for i in range(0,3):\r\n",
        "  for j in range(8000):\r\n",
        "    if new_X_test[i][j] == 'p':\r\n",
        "      new_X_test[i][j] = \"pass\"\r\n",
        "    else:\r\n",
        "      new_X_test[i][j] = \"fail\"\r\n",
        "new_X_test"
      ],
      "execution_count": 101,
      "outputs": [
        {
          "output_type": "execute_result",
          "data": {
            "text/html": [
              "<div>\n",
              "<style scoped>\n",
              "    .dataframe tbody tr th:only-of-type {\n",
              "        vertical-align: middle;\n",
              "    }\n",
              "\n",
              "    .dataframe tbody tr th {\n",
              "        vertical-align: top;\n",
              "    }\n",
              "\n",
              "    .dataframe thead th {\n",
              "        text-align: right;\n",
              "    }\n",
              "</style>\n",
              "<table border=\"1\" class=\"dataframe\">\n",
              "  <thead>\n",
              "    <tr style=\"text-align: right;\">\n",
              "      <th></th>\n",
              "      <th>0</th>\n",
              "      <th>1</th>\n",
              "      <th>2</th>\n",
              "    </tr>\n",
              "  </thead>\n",
              "  <tbody>\n",
              "    <tr>\n",
              "      <th>0</th>\n",
              "      <td>pass</td>\n",
              "      <td>pass</td>\n",
              "      <td>pass</td>\n",
              "    </tr>\n",
              "    <tr>\n",
              "      <th>1</th>\n",
              "      <td>pass</td>\n",
              "      <td>pass</td>\n",
              "      <td>pass</td>\n",
              "    </tr>\n",
              "    <tr>\n",
              "      <th>2</th>\n",
              "      <td>pass</td>\n",
              "      <td>pass</td>\n",
              "      <td>pass</td>\n",
              "    </tr>\n",
              "    <tr>\n",
              "      <th>3</th>\n",
              "      <td>pass</td>\n",
              "      <td>pass</td>\n",
              "      <td>pass</td>\n",
              "    </tr>\n",
              "    <tr>\n",
              "      <th>4</th>\n",
              "      <td>fail</td>\n",
              "      <td>fail</td>\n",
              "      <td>fail</td>\n",
              "    </tr>\n",
              "    <tr>\n",
              "      <th>...</th>\n",
              "      <td>...</td>\n",
              "      <td>...</td>\n",
              "      <td>...</td>\n",
              "    </tr>\n",
              "    <tr>\n",
              "      <th>7995</th>\n",
              "      <td>pass</td>\n",
              "      <td>pass</td>\n",
              "      <td>pass</td>\n",
              "    </tr>\n",
              "    <tr>\n",
              "      <th>7996</th>\n",
              "      <td>fail</td>\n",
              "      <td>fail</td>\n",
              "      <td>fail</td>\n",
              "    </tr>\n",
              "    <tr>\n",
              "      <th>7997</th>\n",
              "      <td>pass</td>\n",
              "      <td>pass</td>\n",
              "      <td>pass</td>\n",
              "    </tr>\n",
              "    <tr>\n",
              "      <th>7998</th>\n",
              "      <td>fail</td>\n",
              "      <td>fail</td>\n",
              "      <td>fail</td>\n",
              "    </tr>\n",
              "    <tr>\n",
              "      <th>7999</th>\n",
              "      <td>pass</td>\n",
              "      <td>pass</td>\n",
              "      <td>pass</td>\n",
              "    </tr>\n",
              "  </tbody>\n",
              "</table>\n",
              "<p>8000 rows × 3 columns</p>\n",
              "</div>"
            ],
            "text/plain": [
              "         0     1     2\n",
              "0     pass  pass  pass\n",
              "1     pass  pass  pass\n",
              "2     pass  pass  pass\n",
              "3     pass  pass  pass\n",
              "4     fail  fail  fail\n",
              "...    ...   ...   ...\n",
              "7995  pass  pass  pass\n",
              "7996  fail  fail  fail\n",
              "7997  pass  pass  pass\n",
              "7998  fail  fail  fail\n",
              "7999  pass  pass  pass\n",
              "\n",
              "[8000 rows x 3 columns]"
            ]
          },
          "metadata": {
            "tags": []
          },
          "execution_count": 101
        }
      ]
    },
    {
      "cell_type": "code",
      "metadata": {
        "colab": {
          "base_uri": "https://localhost:8080/"
        },
        "id": "1I03yAq__xeI",
        "outputId": "575720de-39af-436a-ed2a-bceb9bfbf958"
      },
      "source": [
        "result = pd.DataFrame(index=range(0,8000),columns=['status'])\r\n",
        "#result[0] = 'pass'\r\n",
        "type(result)"
      ],
      "execution_count": 118,
      "outputs": [
        {
          "output_type": "execute_result",
          "data": {
            "text/plain": [
              "pandas.core.frame.DataFrame"
            ]
          },
          "metadata": {
            "tags": []
          },
          "execution_count": 118
        }
      ]
    },
    {
      "cell_type": "code",
      "metadata": {
        "colab": {
          "base_uri": "https://localhost:8080/",
          "height": 419
        },
        "id": "U3VrlfKctmAA",
        "outputId": "45fc0670-4ef8-437f-99e9-0707d3e41d39"
      },
      "source": [
        "result = pd.DataFrame(index=range(0,8000),columns=['status'])\r\n",
        "for i in range(0,8000):\r\n",
        "  result.iloc[i] = mode(new_X_test.iloc[i,:])[0]\r\n",
        "result"
      ],
      "execution_count": 119,
      "outputs": [
        {
          "output_type": "execute_result",
          "data": {
            "text/html": [
              "<div>\n",
              "<style scoped>\n",
              "    .dataframe tbody tr th:only-of-type {\n",
              "        vertical-align: middle;\n",
              "    }\n",
              "\n",
              "    .dataframe tbody tr th {\n",
              "        vertical-align: top;\n",
              "    }\n",
              "\n",
              "    .dataframe thead th {\n",
              "        text-align: right;\n",
              "    }\n",
              "</style>\n",
              "<table border=\"1\" class=\"dataframe\">\n",
              "  <thead>\n",
              "    <tr style=\"text-align: right;\">\n",
              "      <th></th>\n",
              "      <th>status</th>\n",
              "    </tr>\n",
              "  </thead>\n",
              "  <tbody>\n",
              "    <tr>\n",
              "      <th>0</th>\n",
              "      <td>pass</td>\n",
              "    </tr>\n",
              "    <tr>\n",
              "      <th>1</th>\n",
              "      <td>pass</td>\n",
              "    </tr>\n",
              "    <tr>\n",
              "      <th>2</th>\n",
              "      <td>pass</td>\n",
              "    </tr>\n",
              "    <tr>\n",
              "      <th>3</th>\n",
              "      <td>pass</td>\n",
              "    </tr>\n",
              "    <tr>\n",
              "      <th>4</th>\n",
              "      <td>fail</td>\n",
              "    </tr>\n",
              "    <tr>\n",
              "      <th>...</th>\n",
              "      <td>...</td>\n",
              "    </tr>\n",
              "    <tr>\n",
              "      <th>7995</th>\n",
              "      <td>pass</td>\n",
              "    </tr>\n",
              "    <tr>\n",
              "      <th>7996</th>\n",
              "      <td>fail</td>\n",
              "    </tr>\n",
              "    <tr>\n",
              "      <th>7997</th>\n",
              "      <td>pass</td>\n",
              "    </tr>\n",
              "    <tr>\n",
              "      <th>7998</th>\n",
              "      <td>fail</td>\n",
              "    </tr>\n",
              "    <tr>\n",
              "      <th>7999</th>\n",
              "      <td>pass</td>\n",
              "    </tr>\n",
              "  </tbody>\n",
              "</table>\n",
              "<p>8000 rows × 1 columns</p>\n",
              "</div>"
            ],
            "text/plain": [
              "     status\n",
              "0      pass\n",
              "1      pass\n",
              "2      pass\n",
              "3      pass\n",
              "4      fail\n",
              "...     ...\n",
              "7995   pass\n",
              "7996   fail\n",
              "7997   pass\n",
              "7998   fail\n",
              "7999   pass\n",
              "\n",
              "[8000 rows x 1 columns]"
            ]
          },
          "metadata": {
            "tags": []
          },
          "execution_count": 119
        }
      ]
    },
    {
      "cell_type": "code",
      "metadata": {
        "colab": {
          "base_uri": "https://localhost:8080/",
          "height": 419
        },
        "id": "Wa9FyK-NHCg0",
        "outputId": "80400a32-c13a-4444-ace2-c5225059b74d"
      },
      "source": [
        "pd.DataFrame(pred_y)"
      ],
      "execution_count": 122,
      "outputs": [
        {
          "output_type": "execute_result",
          "data": {
            "text/html": [
              "<div>\n",
              "<style scoped>\n",
              "    .dataframe tbody tr th:only-of-type {\n",
              "        vertical-align: middle;\n",
              "    }\n",
              "\n",
              "    .dataframe tbody tr th {\n",
              "        vertical-align: top;\n",
              "    }\n",
              "\n",
              "    .dataframe thead th {\n",
              "        text-align: right;\n",
              "    }\n",
              "</style>\n",
              "<table border=\"1\" class=\"dataframe\">\n",
              "  <thead>\n",
              "    <tr style=\"text-align: right;\">\n",
              "      <th></th>\n",
              "      <th>0</th>\n",
              "    </tr>\n",
              "  </thead>\n",
              "  <tbody>\n",
              "    <tr>\n",
              "      <th>0</th>\n",
              "      <td>pass</td>\n",
              "    </tr>\n",
              "    <tr>\n",
              "      <th>1</th>\n",
              "      <td>pass</td>\n",
              "    </tr>\n",
              "    <tr>\n",
              "      <th>2</th>\n",
              "      <td>pass</td>\n",
              "    </tr>\n",
              "    <tr>\n",
              "      <th>3</th>\n",
              "      <td>pass</td>\n",
              "    </tr>\n",
              "    <tr>\n",
              "      <th>4</th>\n",
              "      <td>fail</td>\n",
              "    </tr>\n",
              "    <tr>\n",
              "      <th>...</th>\n",
              "      <td>...</td>\n",
              "    </tr>\n",
              "    <tr>\n",
              "      <th>7995</th>\n",
              "      <td>pass</td>\n",
              "    </tr>\n",
              "    <tr>\n",
              "      <th>7996</th>\n",
              "      <td>fail</td>\n",
              "    </tr>\n",
              "    <tr>\n",
              "      <th>7997</th>\n",
              "      <td>pass</td>\n",
              "    </tr>\n",
              "    <tr>\n",
              "      <th>7998</th>\n",
              "      <td>fail</td>\n",
              "    </tr>\n",
              "    <tr>\n",
              "      <th>7999</th>\n",
              "      <td>pass</td>\n",
              "    </tr>\n",
              "  </tbody>\n",
              "</table>\n",
              "<p>8000 rows × 1 columns</p>\n",
              "</div>"
            ],
            "text/plain": [
              "         0\n",
              "0     pass\n",
              "1     pass\n",
              "2     pass\n",
              "3     pass\n",
              "4     fail\n",
              "...    ...\n",
              "7995  pass\n",
              "7996  fail\n",
              "7997  pass\n",
              "7998  fail\n",
              "7999  pass\n",
              "\n",
              "[8000 rows x 1 columns]"
            ]
          },
          "metadata": {
            "tags": []
          },
          "execution_count": 122
        }
      ]
    },
    {
      "cell_type": "code",
      "metadata": {
        "id": "H9NEGRYVLMW7"
      },
      "source": [
        "import hyperopt\r\n",
        "from hyperopt import fmin, tpe, hp, STATUS_OK, Trials"
      ],
      "execution_count": null,
      "outputs": []
    },
    {
      "cell_type": "code",
      "metadata": {
        "id": "8Kp_KJo9o3Q1"
      },
      "source": [
        ""
      ],
      "execution_count": null,
      "outputs": []
    },
    {
      "cell_type": "code",
      "metadata": {
        "colab": {
          "resources": {
            "http://localhost:8080/nbextensions/google.colab/files.js": {
              "data": "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",
              "ok": true,
              "headers": [
                [
                  "content-type",
                  "application/javascript"
                ]
              ],
              "status": 200,
              "status_text": ""
            }
          },
          "base_uri": "https://localhost:8080/",
          "height": 76
        },
        "id": "77Lc3PJYU2qs",
        "outputId": "74884d6e-5bba-4da0-fb36-0fc3ed8dff95"
      },
      "source": [
        "uploaded = files.upload()"
      ],
      "execution_count": 40,
      "outputs": [
        {
          "output_type": "display_data",
          "data": {
            "text/html": [
              "\n",
              "     <input type=\"file\" id=\"files-4b9d7a0b-3f90-4460-9e2d-daa4afee2a45\" name=\"files[]\" multiple disabled\n",
              "        style=\"border:none\" />\n",
              "     <output id=\"result-4b9d7a0b-3f90-4460-9e2d-daa4afee2a45\">\n",
              "      Upload widget is only available when the cell has been executed in the\n",
              "      current browser session. Please rerun this cell to enable.\n",
              "      </output>\n",
              "      <script src=\"/nbextensions/google.colab/files.js\"></script> "
            ],
            "text/plain": [
              "<IPython.core.display.HTML object>"
            ]
          },
          "metadata": {
            "tags": []
          }
        },
        {
          "output_type": "stream",
          "text": [
            "Saving test.csv to test.csv\n"
          ],
          "name": "stdout"
        }
      ]
    },
    {
      "cell_type": "code",
      "metadata": {
        "id": "XJz0mmDnU4fP"
      },
      "source": [
        "testset = pd.read_csv(io.StringIO(uploaded['test.csv'].decode('utf-8')))"
      ],
      "execution_count": 41,
      "outputs": []
    },
    {
      "cell_type": "code",
      "metadata": {
        "colab": {
          "base_uri": "https://localhost:8080/",
          "height": 419
        },
        "id": "-tKNT4mzU9O3",
        "outputId": "36efeb6c-1faa-4e93-8dc2-9168e66fef51"
      },
      "source": [
        "testset"
      ],
      "execution_count": null,
      "outputs": [
        {
          "output_type": "execute_result",
          "data": {
            "text/html": [
              "<div>\n",
              "<style scoped>\n",
              "    .dataframe tbody tr th:only-of-type {\n",
              "        vertical-align: middle;\n",
              "    }\n",
              "\n",
              "    .dataframe tbody tr th {\n",
              "        vertical-align: top;\n",
              "    }\n",
              "\n",
              "    .dataframe thead th {\n",
              "        text-align: right;\n",
              "    }\n",
              "</style>\n",
              "<table border=\"1\" class=\"dataframe\">\n",
              "  <thead>\n",
              "    <tr style=\"text-align: right;\">\n",
              "      <th></th>\n",
              "      <th>ID</th>\n",
              "      <th>cr_ID</th>\n",
              "      <th>assembly_time</th>\n",
              "      <th>eq_ID</th>\n",
              "      <th>process_time</th>\n",
              "      <th>ramp</th>\n",
              "      <th>servo_defect</th>\n",
              "      <th>data_defect</th>\n",
              "    </tr>\n",
              "  </thead>\n",
              "  <tbody>\n",
              "    <tr>\n",
              "      <th>0</th>\n",
              "      <td>HDDSN00014</td>\n",
              "      <td>CRSTR01A</td>\n",
              "      <td>2015-03-08 11:47:00</td>\n",
              "      <td>EGRWT0107</td>\n",
              "      <td>2015-03-08 12:13:12</td>\n",
              "      <td>1518.0</td>\n",
              "      <td>5784.0</td>\n",
              "      <td>1620.0</td>\n",
              "    </tr>\n",
              "    <tr>\n",
              "      <th>1</th>\n",
              "      <td>HDDSN00020</td>\n",
              "      <td>CRSTR01O</td>\n",
              "      <td>2015-03-11 10:14:00</td>\n",
              "      <td>EGRWT0113</td>\n",
              "      <td>2015-03-11 12:03:49</td>\n",
              "      <td>1070.0</td>\n",
              "      <td>4998.0</td>\n",
              "      <td>3565.0</td>\n",
              "    </tr>\n",
              "    <tr>\n",
              "      <th>2</th>\n",
              "      <td>HDDSN00021</td>\n",
              "      <td>CRSTR01P</td>\n",
              "      <td>2015-03-08 04:32:00</td>\n",
              "      <td>EGRWT0104</td>\n",
              "      <td>2015-03-08 05:20:31</td>\n",
              "      <td>1008.0</td>\n",
              "      <td>3812.0</td>\n",
              "      <td>2760.0</td>\n",
              "    </tr>\n",
              "    <tr>\n",
              "      <th>3</th>\n",
              "      <td>HDDSN00025</td>\n",
              "      <td>CRSTR01I</td>\n",
              "      <td>2015-03-09 19:13:00</td>\n",
              "      <td>EGRWT0114</td>\n",
              "      <td>2015-03-09 20:37:23</td>\n",
              "      <td>1041.0</td>\n",
              "      <td>5628.0</td>\n",
              "      <td>1349.0</td>\n",
              "    </tr>\n",
              "    <tr>\n",
              "      <th>4</th>\n",
              "      <td>HDDSN00029</td>\n",
              "      <td>CRSTR01R</td>\n",
              "      <td>2015-03-07 17:33:00</td>\n",
              "      <td>EGRWT0111</td>\n",
              "      <td>2015-03-07 18:16:33</td>\n",
              "      <td>2150.0</td>\n",
              "      <td>4150.0</td>\n",
              "      <td>3704.0</td>\n",
              "    </tr>\n",
              "    <tr>\n",
              "      <th>...</th>\n",
              "      <td>...</td>\n",
              "      <td>...</td>\n",
              "      <td>...</td>\n",
              "      <td>...</td>\n",
              "      <td>...</td>\n",
              "      <td>...</td>\n",
              "      <td>...</td>\n",
              "      <td>...</td>\n",
              "    </tr>\n",
              "    <tr>\n",
              "      <th>7995</th>\n",
              "      <td>HDDSN39990</td>\n",
              "      <td>CRSTR01F</td>\n",
              "      <td>2015-03-10 05:54:00</td>\n",
              "      <td>EGRWT0114</td>\n",
              "      <td>2015-03-10 07:42:16</td>\n",
              "      <td>1163.0</td>\n",
              "      <td>3712.0</td>\n",
              "      <td>5631.0</td>\n",
              "    </tr>\n",
              "    <tr>\n",
              "      <th>7996</th>\n",
              "      <td>HDDSN39992</td>\n",
              "      <td>CRSTR01O</td>\n",
              "      <td>2015-03-05 08:07:00</td>\n",
              "      <td>EGRWT0100</td>\n",
              "      <td>2015-03-05 09:38:56</td>\n",
              "      <td>1028.0</td>\n",
              "      <td>4102.0</td>\n",
              "      <td>5473.0</td>\n",
              "    </tr>\n",
              "    <tr>\n",
              "      <th>7997</th>\n",
              "      <td>HDDSN39995</td>\n",
              "      <td>CRSTR01J</td>\n",
              "      <td>2015-03-11 03:24:00</td>\n",
              "      <td>EGRWT0113</td>\n",
              "      <td>2015-03-11 04:55:11</td>\n",
              "      <td>1202.0</td>\n",
              "      <td>5214.0</td>\n",
              "      <td>2631.0</td>\n",
              "    </tr>\n",
              "    <tr>\n",
              "      <th>7998</th>\n",
              "      <td>HDDSN39996</td>\n",
              "      <td>CRSTR01B</td>\n",
              "      <td>2015-03-07 10:42:00</td>\n",
              "      <td>EGRWT0113</td>\n",
              "      <td>2015-03-07 12:46:48</td>\n",
              "      <td>2400.0</td>\n",
              "      <td>5133.0</td>\n",
              "      <td>7505.0</td>\n",
              "    </tr>\n",
              "    <tr>\n",
              "      <th>7999</th>\n",
              "      <td>HDDSN39998</td>\n",
              "      <td>CRSTR01Q</td>\n",
              "      <td>2015-03-06 22:41:00</td>\n",
              "      <td>EGRWT0100</td>\n",
              "      <td>2015-03-07 00:10:49</td>\n",
              "      <td>1103.0</td>\n",
              "      <td>4116.0</td>\n",
              "      <td>3540.0</td>\n",
              "    </tr>\n",
              "  </tbody>\n",
              "</table>\n",
              "<p>8000 rows × 8 columns</p>\n",
              "</div>"
            ],
            "text/plain": [
              "              ID     cr_ID  ... servo_defect data_defect\n",
              "0     HDDSN00014  CRSTR01A  ...       5784.0      1620.0\n",
              "1     HDDSN00020  CRSTR01O  ...       4998.0      3565.0\n",
              "2     HDDSN00021  CRSTR01P  ...       3812.0      2760.0\n",
              "3     HDDSN00025  CRSTR01I  ...       5628.0      1349.0\n",
              "4     HDDSN00029  CRSTR01R  ...       4150.0      3704.0\n",
              "...          ...       ...  ...          ...         ...\n",
              "7995  HDDSN39990  CRSTR01F  ...       3712.0      5631.0\n",
              "7996  HDDSN39992  CRSTR01O  ...       4102.0      5473.0\n",
              "7997  HDDSN39995  CRSTR01J  ...       5214.0      2631.0\n",
              "7998  HDDSN39996  CRSTR01B  ...       5133.0      7505.0\n",
              "7999  HDDSN39998  CRSTR01Q  ...       4116.0      3540.0\n",
              "\n",
              "[8000 rows x 8 columns]"
            ]
          },
          "metadata": {
            "tags": []
          },
          "execution_count": 28
        }
      ]
    },
    {
      "cell_type": "code",
      "metadata": {
        "id": "N5VdqH55VcCG"
      },
      "source": [
        "test_x = testset.loc[:,(testset.columns != 'ID') & (testset.columns != 'cr_ID') & (testset.columns != 'eq_ID')& (testset.columns != 'assembly_time')& (testset.columns != 'process_time')]\r\n",
        "test_cr_ID = testset.loc[:,'cr_ID']\r\n",
        "\r\n",
        "encoder.fit(test_cr_ID)\r\n",
        "test_cr_ID = encoder.transform(test_cr_ID)\r\n",
        "test_cr_ID = pd.DataFrame(test_cr_ID)\r\n",
        "test_cr_ID.columns = ['cr_ID']\r\n",
        "\r\n",
        "test_eq_ID = testset.loc[:,'eq_ID']\r\n",
        "encoder.fit(test_eq_ID)\r\n",
        "test_eq_ID = encoder.transform(test_eq_ID)\r\n",
        "test_eq_ID = pd.DataFrame(test_eq_ID)\r\n",
        "test_eq_ID.columns = ['eq_ID']\r\n",
        "\r\n",
        "test_assembly_time = testset.loc[:,'assembly_time']\r\n",
        "test_process_time = testset.loc[:,'process_time']\r\n",
        "\r\n",
        "test_assembly_time = pd.to_datetime(test_assembly_time, format=\"%Y/%m/%d %H:%M:%S\")\r\n",
        "test_process_time = pd.to_datetime(test_process_time, format=\"%Y/%m/%d %H:%M:%S\")\r\n",
        "\r\n",
        "test_m_assembly_time = test_assembly_time - generalTime\r\n",
        "test_m_assembly_time = test_m_assembly_time.dt.days*86400+test_m_assembly_time.dt.seconds\r\n",
        "test_m_assembly_time = pd.DataFrame(test_m_assembly_time)\r\n",
        "test_m_assembly_time.columns = ['m_assembly_time']\r\n",
        "\r\n",
        "test_m_process_time = test_process_time - generalTime\r\n",
        "test_m_process_time = test_m_process_time.dt.days*86400+test_m_process_time.dt.seconds\r\n",
        "test_m_process_time = pd.DataFrame(test_m_process_time)\r\n",
        "test_m_process_time.columns = ['m_process_time']\r\n",
        "\r\n",
        "test_timeDiffer = test_process_time - test_assembly_time\r\n",
        "test_timeDiffer = test_timeDiffer.dt.seconds\r\n",
        "test_timeDiffer = pd.DataFrame(test_timeDiffer)\r\n",
        "test_timeDiffer.columns = ['timeDiffer']\r\n",
        "\r\n",
        "test_x = pd.concat([test_x,test_cr_ID,test_eq_ID,test_timeDiffer,test_m_assembly_time,test_m_process_time], axis=1)"
      ],
      "execution_count": 42,
      "outputs": []
    },
    {
      "cell_type": "code",
      "metadata": {
        "colab": {
          "base_uri": "https://localhost:8080/",
          "height": 419
        },
        "id": "FdymHZ1Vb47e",
        "outputId": "0ba77c41-e873-4229-ae0a-e13190df9d84"
      },
      "source": [
        "df_x"
      ],
      "execution_count": 44,
      "outputs": [
        {
          "output_type": "execute_result",
          "data": {
            "text/html": [
              "<div>\n",
              "<style scoped>\n",
              "    .dataframe tbody tr th:only-of-type {\n",
              "        vertical-align: middle;\n",
              "    }\n",
              "\n",
              "    .dataframe tbody tr th {\n",
              "        vertical-align: top;\n",
              "    }\n",
              "\n",
              "    .dataframe thead th {\n",
              "        text-align: right;\n",
              "    }\n",
              "</style>\n",
              "<table border=\"1\" class=\"dataframe\">\n",
              "  <thead>\n",
              "    <tr style=\"text-align: right;\">\n",
              "      <th></th>\n",
              "      <th>ramp</th>\n",
              "      <th>servo_defect</th>\n",
              "      <th>data_defect</th>\n",
              "      <th>cr_ID</th>\n",
              "      <th>eq_ID</th>\n",
              "      <th>timeDiffer</th>\n",
              "      <th>m_assembly_time</th>\n",
              "      <th>m_process_time</th>\n",
              "    </tr>\n",
              "  </thead>\n",
              "  <tbody>\n",
              "    <tr>\n",
              "      <th>0</th>\n",
              "      <td>4561.0</td>\n",
              "      <td>6083.0</td>\n",
              "      <td>1341.0</td>\n",
              "      <td>11</td>\n",
              "      <td>13</td>\n",
              "      <td>7075</td>\n",
              "      <td>725760</td>\n",
              "      <td>732835</td>\n",
              "    </tr>\n",
              "    <tr>\n",
              "      <th>1</th>\n",
              "      <td>3898.0</td>\n",
              "      <td>1819.0</td>\n",
              "      <td>8037.0</td>\n",
              "      <td>16</td>\n",
              "      <td>2</td>\n",
              "      <td>3798</td>\n",
              "      <td>785580</td>\n",
              "      <td>789378</td>\n",
              "    </tr>\n",
              "    <tr>\n",
              "      <th>2</th>\n",
              "      <td>3016.0</td>\n",
              "      <td>4997.0</td>\n",
              "      <td>1583.0</td>\n",
              "      <td>13</td>\n",
              "      <td>3</td>\n",
              "      <td>3252</td>\n",
              "      <td>515160</td>\n",
              "      <td>518412</td>\n",
              "    </tr>\n",
              "    <tr>\n",
              "      <th>3</th>\n",
              "      <td>1605.0</td>\n",
              "      <td>4415.0</td>\n",
              "      <td>3345.0</td>\n",
              "      <td>0</td>\n",
              "      <td>7</td>\n",
              "      <td>5178</td>\n",
              "      <td>623400</td>\n",
              "      <td>628578</td>\n",
              "    </tr>\n",
              "    <tr>\n",
              "      <th>4</th>\n",
              "      <td>1002.0</td>\n",
              "      <td>2394.0</td>\n",
              "      <td>3296.0</td>\n",
              "      <td>2</td>\n",
              "      <td>13</td>\n",
              "      <td>8980</td>\n",
              "      <td>715440</td>\n",
              "      <td>724420</td>\n",
              "    </tr>\n",
              "    <tr>\n",
              "      <th>...</th>\n",
              "      <td>...</td>\n",
              "      <td>...</td>\n",
              "      <td>...</td>\n",
              "      <td>...</td>\n",
              "      <td>...</td>\n",
              "      <td>...</td>\n",
              "      <td>...</td>\n",
              "      <td>...</td>\n",
              "    </tr>\n",
              "    <tr>\n",
              "      <th>31995</th>\n",
              "      <td>1303.0</td>\n",
              "      <td>2796.0</td>\n",
              "      <td>2057.0</td>\n",
              "      <td>16</td>\n",
              "      <td>10</td>\n",
              "      <td>5394</td>\n",
              "      <td>626520</td>\n",
              "      <td>631914</td>\n",
              "    </tr>\n",
              "    <tr>\n",
              "      <th>31996</th>\n",
              "      <td>3036.0</td>\n",
              "      <td>5538.0</td>\n",
              "      <td>2382.0</td>\n",
              "      <td>14</td>\n",
              "      <td>2</td>\n",
              "      <td>3428</td>\n",
              "      <td>565560</td>\n",
              "      <td>568988</td>\n",
              "    </tr>\n",
              "    <tr>\n",
              "      <th>31997</th>\n",
              "      <td>2954.0</td>\n",
              "      <td>3607.0</td>\n",
              "      <td>3133.0</td>\n",
              "      <td>2</td>\n",
              "      <td>8</td>\n",
              "      <td>9716</td>\n",
              "      <td>663240</td>\n",
              "      <td>672956</td>\n",
              "    </tr>\n",
              "    <tr>\n",
              "      <th>31998</th>\n",
              "      <td>1133.0</td>\n",
              "      <td>3279.0</td>\n",
              "      <td>2410.0</td>\n",
              "      <td>19</td>\n",
              "      <td>9</td>\n",
              "      <td>7858</td>\n",
              "      <td>393060</td>\n",
              "      <td>400918</td>\n",
              "    </tr>\n",
              "    <tr>\n",
              "      <th>31999</th>\n",
              "      <td>3179.0</td>\n",
              "      <td>4771.0</td>\n",
              "      <td>5244.0</td>\n",
              "      <td>18</td>\n",
              "      <td>4</td>\n",
              "      <td>5054</td>\n",
              "      <td>624660</td>\n",
              "      <td>629714</td>\n",
              "    </tr>\n",
              "  </tbody>\n",
              "</table>\n",
              "<p>32000 rows × 8 columns</p>\n",
              "</div>"
            ],
            "text/plain": [
              "         ramp  servo_defect  ...  m_assembly_time  m_process_time\n",
              "0      4561.0        6083.0  ...           725760          732835\n",
              "1      3898.0        1819.0  ...           785580          789378\n",
              "2      3016.0        4997.0  ...           515160          518412\n",
              "3      1605.0        4415.0  ...           623400          628578\n",
              "4      1002.0        2394.0  ...           715440          724420\n",
              "...       ...           ...  ...              ...             ...\n",
              "31995  1303.0        2796.0  ...           626520          631914\n",
              "31996  3036.0        5538.0  ...           565560          568988\n",
              "31997  2954.0        3607.0  ...           663240          672956\n",
              "31998  1133.0        3279.0  ...           393060          400918\n",
              "31999  3179.0        4771.0  ...           624660          629714\n",
              "\n",
              "[32000 rows x 8 columns]"
            ]
          },
          "metadata": {
            "tags": []
          },
          "execution_count": 44
        }
      ]
    },
    {
      "cell_type": "code",
      "metadata": {
        "colab": {
          "base_uri": "https://localhost:8080/",
          "height": 419
        },
        "id": "kejuzRZ9b6qL",
        "outputId": "8a022861-8a01-491f-b4dc-49b4390e93a4"
      },
      "source": [
        "test_x"
      ],
      "execution_count": 43,
      "outputs": [
        {
          "output_type": "execute_result",
          "data": {
            "text/html": [
              "<div>\n",
              "<style scoped>\n",
              "    .dataframe tbody tr th:only-of-type {\n",
              "        vertical-align: middle;\n",
              "    }\n",
              "\n",
              "    .dataframe tbody tr th {\n",
              "        vertical-align: top;\n",
              "    }\n",
              "\n",
              "    .dataframe thead th {\n",
              "        text-align: right;\n",
              "    }\n",
              "</style>\n",
              "<table border=\"1\" class=\"dataframe\">\n",
              "  <thead>\n",
              "    <tr style=\"text-align: right;\">\n",
              "      <th></th>\n",
              "      <th>ramp</th>\n",
              "      <th>servo_defect</th>\n",
              "      <th>data_defect</th>\n",
              "      <th>cr_ID</th>\n",
              "      <th>eq_ID</th>\n",
              "      <th>timeDiffer</th>\n",
              "      <th>m_assembly_time</th>\n",
              "      <th>m_process_time</th>\n",
              "    </tr>\n",
              "  </thead>\n",
              "  <tbody>\n",
              "    <tr>\n",
              "      <th>0</th>\n",
              "      <td>1518.0</td>\n",
              "      <td>5784.0</td>\n",
              "      <td>1620.0</td>\n",
              "      <td>0</td>\n",
              "      <td>7</td>\n",
              "      <td>1572</td>\n",
              "      <td>647220</td>\n",
              "      <td>648792</td>\n",
              "    </tr>\n",
              "    <tr>\n",
              "      <th>1</th>\n",
              "      <td>1070.0</td>\n",
              "      <td>4998.0</td>\n",
              "      <td>3565.0</td>\n",
              "      <td>14</td>\n",
              "      <td>13</td>\n",
              "      <td>6589</td>\n",
              "      <td>900840</td>\n",
              "      <td>907429</td>\n",
              "    </tr>\n",
              "    <tr>\n",
              "      <th>2</th>\n",
              "      <td>1008.0</td>\n",
              "      <td>3812.0</td>\n",
              "      <td>2760.0</td>\n",
              "      <td>15</td>\n",
              "      <td>4</td>\n",
              "      <td>2911</td>\n",
              "      <td>621120</td>\n",
              "      <td>624031</td>\n",
              "    </tr>\n",
              "    <tr>\n",
              "      <th>3</th>\n",
              "      <td>1041.0</td>\n",
              "      <td>5628.0</td>\n",
              "      <td>1349.0</td>\n",
              "      <td>8</td>\n",
              "      <td>14</td>\n",
              "      <td>5063</td>\n",
              "      <td>760380</td>\n",
              "      <td>765443</td>\n",
              "    </tr>\n",
              "    <tr>\n",
              "      <th>4</th>\n",
              "      <td>2150.0</td>\n",
              "      <td>4150.0</td>\n",
              "      <td>3704.0</td>\n",
              "      <td>17</td>\n",
              "      <td>11</td>\n",
              "      <td>2613</td>\n",
              "      <td>581580</td>\n",
              "      <td>584193</td>\n",
              "    </tr>\n",
              "    <tr>\n",
              "      <th>...</th>\n",
              "      <td>...</td>\n",
              "      <td>...</td>\n",
              "      <td>...</td>\n",
              "      <td>...</td>\n",
              "      <td>...</td>\n",
              "      <td>...</td>\n",
              "      <td>...</td>\n",
              "      <td>...</td>\n",
              "    </tr>\n",
              "    <tr>\n",
              "      <th>7995</th>\n",
              "      <td>1163.0</td>\n",
              "      <td>3712.0</td>\n",
              "      <td>5631.0</td>\n",
              "      <td>5</td>\n",
              "      <td>14</td>\n",
              "      <td>6496</td>\n",
              "      <td>798840</td>\n",
              "      <td>805336</td>\n",
              "    </tr>\n",
              "    <tr>\n",
              "      <th>7996</th>\n",
              "      <td>1028.0</td>\n",
              "      <td>4102.0</td>\n",
              "      <td>5473.0</td>\n",
              "      <td>14</td>\n",
              "      <td>0</td>\n",
              "      <td>5516</td>\n",
              "      <td>374820</td>\n",
              "      <td>380336</td>\n",
              "    </tr>\n",
              "    <tr>\n",
              "      <th>7997</th>\n",
              "      <td>1202.0</td>\n",
              "      <td>5214.0</td>\n",
              "      <td>2631.0</td>\n",
              "      <td>9</td>\n",
              "      <td>13</td>\n",
              "      <td>5471</td>\n",
              "      <td>876240</td>\n",
              "      <td>881711</td>\n",
              "    </tr>\n",
              "    <tr>\n",
              "      <th>7998</th>\n",
              "      <td>2400.0</td>\n",
              "      <td>5133.0</td>\n",
              "      <td>7505.0</td>\n",
              "      <td>1</td>\n",
              "      <td>13</td>\n",
              "      <td>7488</td>\n",
              "      <td>556920</td>\n",
              "      <td>564408</td>\n",
              "    </tr>\n",
              "    <tr>\n",
              "      <th>7999</th>\n",
              "      <td>1103.0</td>\n",
              "      <td>4116.0</td>\n",
              "      <td>3540.0</td>\n",
              "      <td>16</td>\n",
              "      <td>0</td>\n",
              "      <td>5389</td>\n",
              "      <td>513660</td>\n",
              "      <td>519049</td>\n",
              "    </tr>\n",
              "  </tbody>\n",
              "</table>\n",
              "<p>8000 rows × 8 columns</p>\n",
              "</div>"
            ],
            "text/plain": [
              "        ramp  servo_defect  ...  m_assembly_time  m_process_time\n",
              "0     1518.0        5784.0  ...           647220          648792\n",
              "1     1070.0        4998.0  ...           900840          907429\n",
              "2     1008.0        3812.0  ...           621120          624031\n",
              "3     1041.0        5628.0  ...           760380          765443\n",
              "4     2150.0        4150.0  ...           581580          584193\n",
              "...      ...           ...  ...              ...             ...\n",
              "7995  1163.0        3712.0  ...           798840          805336\n",
              "7996  1028.0        4102.0  ...           374820          380336\n",
              "7997  1202.0        5214.0  ...           876240          881711\n",
              "7998  2400.0        5133.0  ...           556920          564408\n",
              "7999  1103.0        4116.0  ...           513660          519049\n",
              "\n",
              "[8000 rows x 8 columns]"
            ]
          },
          "metadata": {
            "tags": []
          },
          "execution_count": 43
        }
      ]
    },
    {
      "cell_type": "code",
      "metadata": {
        "id": "MvYAie-Ibfjs"
      },
      "source": [
        "model = LGBMClassifier()\r\n",
        "model.fit(df_x, df_y)\r\n",
        "pred_y = model.predict(test_x)"
      ],
      "execution_count": 120,
      "outputs": []
    },
    {
      "cell_type": "code",
      "metadata": {
        "id": "-UUuqrt8Ycin"
      },
      "source": [
        "a = pd.DataFrame(pred_y)\r\n",
        "a.to_csv(\"배수민.csv\", index = False, header = False)"
      ],
      "execution_count": null,
      "outputs": []
    },
    {
      "cell_type": "code",
      "metadata": {
        "id": "IfTKAT6ubRsv"
      },
      "source": [
        "import xlwt, xlrd"
      ],
      "execution_count": null,
      "outputs": []
    },
    {
      "cell_type": "code",
      "metadata": {
        "id": "v8mB20aFbTn7"
      },
      "source": [
        "file_name = '배수민.xls'"
      ],
      "execution_count": null,
      "outputs": []
    },
    {
      "cell_type": "code",
      "metadata": {
        "id": "8W6QTMqEbU7B"
      },
      "source": [
        "wb = xlwt.Workbook()"
      ],
      "execution_count": null,
      "outputs": []
    },
    {
      "cell_type": "code",
      "metadata": {
        "id": "Xq5UvslKbWBz"
      },
      "source": [
        "ws_1 = wb.add_sheet('sheet0',cell_overwrite_ok=False)"
      ],
      "execution_count": null,
      "outputs": []
    },
    {
      "cell_type": "code",
      "metadata": {
        "id": "IKiLS3bQbXT5"
      },
      "source": [
        "ws_1 = wb.get_sheet(0)"
      ],
      "execution_count": null,
      "outputs": []
    },
    {
      "cell_type": "code",
      "metadata": {
        "id": "AE1a0JQqbYPz"
      },
      "source": [
        "idx = 0"
      ],
      "execution_count": null,
      "outputs": []
    },
    {
      "cell_type": "code",
      "metadata": {
        "id": "3KcySD95bZLM"
      },
      "source": [
        "#ws_1.write(0,0,'a')\r\n",
        "for i in range(0,len(pred_y)):\r\n",
        "  ws_1.write(idx,0,pred_y[i])\r\n",
        "  idx+=1"
      ],
      "execution_count": null,
      "outputs": []
    },
    {
      "cell_type": "code",
      "metadata": {
        "colab": {
          "base_uri": "https://localhost:8080/",
          "height": 17
        },
        "id": "MHafbc2Qbaqq",
        "outputId": "da85569c-176e-4c97-a22b-3fee4c329882"
      },
      "source": [
        "wb.save(file_name)\r\n",
        "files.download(file_name)"
      ],
      "execution_count": null,
      "outputs": [
        {
          "output_type": "display_data",
          "data": {
            "application/javascript": [
              "\n",
              "    async function download(id, filename, size) {\n",
              "      if (!google.colab.kernel.accessAllowed) {\n",
              "        return;\n",
              "      }\n",
              "      const div = document.createElement('div');\n",
              "      const label = document.createElement('label');\n",
              "      label.textContent = `Downloading \"${filename}\": `;\n",
              "      div.appendChild(label);\n",
              "      const progress = document.createElement('progress');\n",
              "      progress.max = size;\n",
              "      div.appendChild(progress);\n",
              "      document.body.appendChild(div);\n",
              "\n",
              "      const buffers = [];\n",
              "      let downloaded = 0;\n",
              "\n",
              "      const channel = await google.colab.kernel.comms.open(id);\n",
              "      // Send a message to notify the kernel that we're ready.\n",
              "      channel.send({})\n",
              "\n",
              "      for await (const message of channel.messages) {\n",
              "        // Send a message to notify the kernel that we're ready.\n",
              "        channel.send({})\n",
              "        if (message.buffers) {\n",
              "          for (const buffer of message.buffers) {\n",
              "            buffers.push(buffer);\n",
              "            downloaded += buffer.byteLength;\n",
              "            progress.value = downloaded;\n",
              "          }\n",
              "        }\n",
              "      }\n",
              "      const blob = new Blob(buffers, {type: 'application/binary'});\n",
              "      const a = document.createElement('a');\n",
              "      a.href = window.URL.createObjectURL(blob);\n",
              "      a.download = filename;\n",
              "      div.appendChild(a);\n",
              "      a.click();\n",
              "      div.remove();\n",
              "    }\n",
              "  "
            ],
            "text/plain": [
              "<IPython.core.display.Javascript object>"
            ]
          },
          "metadata": {
            "tags": []
          }
        },
        {
          "output_type": "display_data",
          "data": {
            "application/javascript": [
              "download(\"download_484d6ba8-36fc-4667-82b2-cca51c6b90fa\", \"\\ubc30\\uc218\\ubbfc.xls\", 278016)"
            ],
            "text/plain": [
              "<IPython.core.display.Javascript object>"
            ]
          },
          "metadata": {
            "tags": []
          }
        }
      ]
    }
  ]
}