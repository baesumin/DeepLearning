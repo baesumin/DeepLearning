{
  "nbformat": 4,
  "nbformat_minor": 0,
  "metadata": {
    "colab": {
      "name": "prac11.ipynb",
      "provenance": [],
      "collapsed_sections": [],
      "authorship_tag": "ABX9TyN7ihxXLUPyBJT8zNlEHeaz",
      "include_colab_link": true
    },
    "kernelspec": {
      "name": "python3",
      "display_name": "Python 3"
    },
    "accelerator": "GPU"
  },
  "cells": [
    {
      "cell_type": "markdown",
      "metadata": {
        "id": "view-in-github",
        "colab_type": "text"
      },
      "source": [
        "<a href=\"https://colab.research.google.com/github/baesumin/DeepLearning/blob/main/prac11cnn.ipynb\" target=\"_parent\"><img src=\"https://colab.research.google.com/assets/colab-badge.svg\" alt=\"Open In Colab\"/></a>"
      ]
    },
    {
      "cell_type": "code",
      "metadata": {
        "id": "z5OakKSmY-OB"
      },
      "source": [
        "from keras.models import Sequential \n",
        "from keras.layers import Dense \n",
        "from keras.layers import Dropout\n",
        "from keras.layers import Flatten\n",
        "from keras.layers.convolutional import Convolution2D\n",
        "from keras.layers.convolutional import MaxPooling2D\n",
        "from keras.utils import np_utils \n",
        "import numpy as np \n",
        "import matplotlib.pyplot as plt"
      ],
      "execution_count": 1,
      "outputs": []
    },
    {
      "cell_type": "code",
      "metadata": {
        "colab": {
          "base_uri": "https://localhost:8080/"
        },
        "id": "7EgJAIA8dcPk",
        "outputId": "c41c616a-7205-4b86-e58e-227cc1878b8e"
      },
      "source": [
        "from keras.datasets import cifar10\n",
        "\n",
        "# load dataset\n",
        "(X_train, y_train), (X_test, y_test) = cifar10.load_data()\n",
        "X_train, X_test= X_train/ 255.0, X_test/ 255.0"
      ],
      "execution_count": 2,
      "outputs": [
        {
          "output_type": "stream",
          "text": [
            "Downloading data from https://www.cs.toronto.edu/~kriz/cifar-10-python.tar.gz\n",
            "170500096/170498071 [==============================] - 3s 0us/step\n"
          ],
          "name": "stdout"
        }
      ]
    },
    {
      "cell_type": "code",
      "metadata": {
        "colab": {
          "base_uri": "https://localhost:8080/"
        },
        "id": "7aXNxJ0Dyd74",
        "outputId": "ed558567-5cfe-461f-999d-a5755807cf5a"
      },
      "source": [
        "X_train.shape[1:]"
      ],
      "execution_count": 3,
      "outputs": [
        {
          "output_type": "execute_result",
          "data": {
            "text/plain": [
              "(32, 32, 3)"
            ]
          },
          "metadata": {
            "tags": []
          },
          "execution_count": 3
        }
      ]
    },
    {
      "cell_type": "code",
      "metadata": {
        "id": "KXFGaBX0de4T"
      },
      "source": [
        "# define image size\n",
        "img_rows=32\n",
        "img_cols=32"
      ],
      "execution_count": 4,
      "outputs": []
    },
    {
      "cell_type": "code",
      "metadata": {
        "id": "nsIPdNuXtoQM"
      },
      "source": [
        "# reshape\n",
        "X_train= X_train.reshape(X_train.shape[0], img_rows, img_cols, 3)\n",
        "X_test= X_test.reshape(X_test.shape[0], img_rows, img_cols, 3)"
      ],
      "execution_count": 5,
      "outputs": []
    },
    {
      "cell_type": "code",
      "metadata": {
        "id": "exjBBiRWtw_c"
      },
      "source": [
        "# one hot encoded\n",
        "y_train= np_utils.to_categorical(y_train,10) \n",
        "y_test= np_utils.to_categorical(y_test,10)"
      ],
      "execution_count": 6,
      "outputs": []
    },
    {
      "cell_type": "code",
      "metadata": {
        "id": "ZIKEppbywbVa"
      },
      "source": [
        "# fix random seed for reproducibility \n",
        "seed = 100 \n",
        "np.random.seed(seed)\n",
        "num_classes= 10"
      ],
      "execution_count": 7,
      "outputs": []
    },
    {
      "cell_type": "code",
      "metadata": {
        "id": "Gy4B42-Mwjrw"
      },
      "source": [
        "# create CNN model\n",
        "def cnn_model():\n",
        "  # define model\n",
        "  model = Sequential()\n",
        "  model.add(Convolution2D(32, kernel_size=(5, 5), \n",
        "                          padding='same',\n",
        "                          \n",
        "                          input_shape=(img_rows, img_cols, 3), \n",
        "                          activation='relu'))\n",
        "  model.add(MaxPooling2D(pool_size=(2, 2)))\n",
        "  model.add(Dropout(0.3))\n",
        "\n",
        "  model.add(Convolution2D(32, kernel_size=(5, 5), \n",
        "                          padding='same',\n",
        "                          \n",
        "                          input_shape=(img_rows, img_cols, 3), \n",
        "                          activation='relu'))\n",
        "  model.add(MaxPooling2D(pool_size=(2, 2)))\n",
        "\n",
        "  model.add(Convolution2D(32, kernel_size=(5, 5), \n",
        "                          padding='same',\n",
        "                          \n",
        "                          input_shape=(img_rows, img_cols, 3), \n",
        "                          activation='relu'))\n",
        "  model.add(MaxPooling2D(pool_size=(2, 2)))\n",
        "\n",
        "  model.add(Flatten())\n",
        "  model.add(Dense(512, activation='relu'))\n",
        "  model.add(Dense(num_classes, activation='softmax'))\n",
        "  \n",
        "  # Compile model\n",
        "  model.compile(loss='categorical_crossentropy', \n",
        "                optimizer='adam', \n",
        "                metrics=['accuracy'])\n",
        "  return model"
      ],
      "execution_count": 8,
      "outputs": []
    },
    {
      "cell_type": "code",
      "metadata": {
        "colab": {
          "base_uri": "https://localhost:8080/"
        },
        "id": "EGuEBhg70byj",
        "outputId": "a89953ba-9e36-48ea-baea-b6e10a820f59"
      },
      "source": [
        "X_test.shape"
      ],
      "execution_count": 36,
      "outputs": [
        {
          "output_type": "execute_result",
          "data": {
            "text/plain": [
              "(10000, 32, 32, 3)"
            ]
          },
          "metadata": {
            "tags": []
          },
          "execution_count": 36
        }
      ]
    },
    {
      "cell_type": "code",
      "metadata": {
        "colab": {
          "base_uri": "https://localhost:8080/"
        },
        "id": "PANUfSxkzdzl",
        "outputId": "89e126cb-e70e-4ea8-9f5d-3595829743f6"
      },
      "source": [
        "# build the model\n",
        "model = cnn_model()\n",
        "\n",
        "# Fit the model\n",
        "disp= model.fit(X_train, y_train, \n",
        "                validation_data=(X_test, y_test), \n",
        "                epochs=10, \n",
        "                batch_size=200, \n",
        "                verbose=1)\n",
        "\n",
        "# Final evaluation of the model\n",
        "scores = model.evaluate(X_train, y_train, verbose=0)\n",
        "print(\"loss: %.2f\" % scores[0])\n",
        "print(\"acc: %.2f\" % scores[1])"
      ],
      "execution_count": 10,
      "outputs": [
        {
          "output_type": "stream",
          "text": [
            "Epoch 1/10\n",
            "250/250 [==============================] - 2s 10ms/step - loss: 1.7091 - accuracy: 0.3705 - val_loss: 1.3777 - val_accuracy: 0.5038\n",
            "Epoch 2/10\n",
            "250/250 [==============================] - 2s 9ms/step - loss: 1.2991 - accuracy: 0.5350 - val_loss: 1.1563 - val_accuracy: 0.5888\n",
            "Epoch 3/10\n",
            "250/250 [==============================] - 2s 9ms/step - loss: 1.1275 - accuracy: 0.5988 - val_loss: 1.0909 - val_accuracy: 0.6126\n",
            "Epoch 4/10\n",
            "250/250 [==============================] - 2s 9ms/step - loss: 1.0189 - accuracy: 0.6381 - val_loss: 1.0354 - val_accuracy: 0.6294\n",
            "Epoch 5/10\n",
            "250/250 [==============================] - 2s 9ms/step - loss: 0.9294 - accuracy: 0.6744 - val_loss: 0.9307 - val_accuracy: 0.6720\n",
            "Epoch 6/10\n",
            "250/250 [==============================] - 2s 9ms/step - loss: 0.8718 - accuracy: 0.6917 - val_loss: 0.9482 - val_accuracy: 0.6644\n",
            "Epoch 7/10\n",
            "250/250 [==============================] - 2s 9ms/step - loss: 0.8039 - accuracy: 0.7161 - val_loss: 0.9581 - val_accuracy: 0.6677\n",
            "Epoch 8/10\n",
            "250/250 [==============================] - 2s 9ms/step - loss: 0.7572 - accuracy: 0.7326 - val_loss: 0.9279 - val_accuracy: 0.6798\n",
            "Epoch 9/10\n",
            "250/250 [==============================] - 2s 9ms/step - loss: 0.7061 - accuracy: 0.7507 - val_loss: 0.8431 - val_accuracy: 0.7055\n",
            "Epoch 10/10\n",
            "250/250 [==============================] - 2s 9ms/step - loss: 0.6563 - accuracy: 0.7681 - val_loss: 0.8364 - val_accuracy: 0.7112\n",
            "loss: 0.53\n",
            "acc: 0.82\n"
          ],
          "name": "stdout"
        }
      ]
    }
  ]
}