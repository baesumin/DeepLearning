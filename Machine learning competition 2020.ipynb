{
  "nbformat": 4,
  "nbformat_minor": 0,
  "metadata": {
    "colab": {
      "name": "경진대회.ipynb",
      "provenance": [],
      "collapsed_sections": [],
      "authorship_tag": "ABX9TyOB2dvI2rrI4xBNLu96RWXO",
      "include_colab_link": true
    },
    "kernelspec": {
      "name": "python3",
      "display_name": "Python 3"
    },
    "accelerator": "GPU"
  },
  "cells": [
    {
      "cell_type": "markdown",
      "metadata": {
        "id": "view-in-github",
        "colab_type": "text"
      },
      "source": [
        "<a href=\"https://colab.research.google.com/github/baesumin/DeepLearning/blob/main/Machine%20learning%20competition%202020.ipynb\" target=\"_parent\"><img src=\"https://colab.research.google.com/assets/colab-badge.svg\" alt=\"Open In Colab\"/></a>"
      ]
    },
    {
      "cell_type": "code",
      "metadata": {
        "id": "9T_mGcZ0f3UG",
        "outputId": "9fa7d53d-4cad-4e93-8079-3d92508703f2",
        "colab": {
          "resources": {
            "http://localhost:8080/nbextensions/google.colab/files.js": {
              "data": "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",
              "ok": true,
              "headers": [
                [
                  "content-type",
                  "application/javascript"
                ]
              ],
              "status": 200,
              "status_text": ""
            }
          },
          "base_uri": "https://localhost:8080/",
          "height": 76
        }
      },
      "source": [
        "from google.colab import files\n",
        "uploaded = files.upload()"
      ],
      "execution_count": 1,
      "outputs": [
        {
          "output_type": "display_data",
          "data": {
            "text/html": [
              "\n",
              "     <input type=\"file\" id=\"files-3d8847f4-6dcb-4c80-90da-075ad42b42f9\" name=\"files[]\" multiple disabled\n",
              "        style=\"border:none\" />\n",
              "     <output id=\"result-3d8847f4-6dcb-4c80-90da-075ad42b42f9\">\n",
              "      Upload widget is only available when the cell has been executed in the\n",
              "      current browser session. Please rerun this cell to enable.\n",
              "      </output>\n",
              "      <script src=\"/nbextensions/google.colab/files.js\"></script> "
            ],
            "text/plain": [
              "<IPython.core.display.HTML object>"
            ]
          },
          "metadata": {
            "tags": []
          }
        },
        {
          "output_type": "stream",
          "text": [
            "Saving MyTrainset.csv to MyTrainset.csv\n"
          ],
          "name": "stdout"
        }
      ]
    },
    {
      "cell_type": "code",
      "metadata": {
        "id": "mQ85OJK6f5E_"
      },
      "source": [
        "import pandas as pd\n",
        "import numpy as np\n",
        "import io\n",
        "MyTrainset = pd.read_csv(io.StringIO(uploaded['MyTrainset.csv'].decode('utf-8')))"
      ],
      "execution_count": 2,
      "outputs": []
    },
    {
      "cell_type": "code",
      "metadata": {
        "id": "cNpvqHxLgBYr",
        "outputId": "140f1f34-d4f3-4c63-e0b0-26617efc16dd",
        "colab": {
          "base_uri": "https://localhost:8080/",
          "height": 439
        }
      },
      "source": [
        "MyTrainset"
      ],
      "execution_count": 3,
      "outputs": [
        {
          "output_type": "execute_result",
          "data": {
            "text/html": [
              "<div>\n",
              "<style scoped>\n",
              "    .dataframe tbody tr th:only-of-type {\n",
              "        vertical-align: middle;\n",
              "    }\n",
              "\n",
              "    .dataframe tbody tr th {\n",
              "        vertical-align: top;\n",
              "    }\n",
              "\n",
              "    .dataframe thead th {\n",
              "        text-align: right;\n",
              "    }\n",
              "</style>\n",
              "<table border=\"1\" class=\"dataframe\">\n",
              "  <thead>\n",
              "    <tr style=\"text-align: right;\">\n",
              "      <th></th>\n",
              "      <th>a</th>\n",
              "      <th>b</th>\n",
              "      <th>c</th>\n",
              "      <th>d</th>\n",
              "      <th>e</th>\n",
              "      <th>f</th>\n",
              "      <th>g</th>\n",
              "      <th>h</th>\n",
              "      <th>i</th>\n",
              "      <th>j</th>\n",
              "      <th>k</th>\n",
              "      <th>l</th>\n",
              "      <th>m</th>\n",
              "      <th>n</th>\n",
              "      <th>o</th>\n",
              "      <th>p</th>\n",
              "      <th>q</th>\n",
              "      <th>r</th>\n",
              "      <th>s</th>\n",
              "      <th>t</th>\n",
              "      <th>u</th>\n",
              "      <th>v</th>\n",
              "      <th>w</th>\n",
              "      <th>x</th>\n",
              "      <th>y</th>\n",
              "      <th>z</th>\n",
              "      <th>aa</th>\n",
              "      <th>ab</th>\n",
              "      <th>ac</th>\n",
              "      <th>ad</th>\n",
              "      <th>ae</th>\n",
              "      <th>af</th>\n",
              "    </tr>\n",
              "  </thead>\n",
              "  <tbody>\n",
              "    <tr>\n",
              "      <th>0</th>\n",
              "      <td>HI</td>\n",
              "      <td>188</td>\n",
              "      <td>128</td>\n",
              "      <td>95</td>\n",
              "      <td>114</td>\n",
              "      <td>143</td>\n",
              "      <td>108</td>\n",
              "      <td>88</td>\n",
              "      <td>103</td>\n",
              "      <td>113</td>\n",
              "      <td>85</td>\n",
              "      <td>88</td>\n",
              "      <td>113</td>\n",
              "      <td>87</td>\n",
              "      <td>88</td>\n",
              "      <td>103</td>\n",
              "      <td>87</td>\n",
              "      <td>84</td>\n",
              "      <td>99</td>\n",
              "      <td>104</td>\n",
              "      <td>82</td>\n",
              "      <td>96</td>\n",
              "      <td>100</td>\n",
              "      <td>78</td>\n",
              "      <td>70</td>\n",
              "      <td>79</td>\n",
              "      <td>84</td>\n",
              "      <td>66</td>\n",
              "      <td>70</td>\n",
              "      <td>75</td>\n",
              "      <td>76</td>\n",
              "      <td>63</td>\n",
              "    </tr>\n",
              "    <tr>\n",
              "      <th>1</th>\n",
              "      <td>PH</td>\n",
              "      <td>174</td>\n",
              "      <td>112</td>\n",
              "      <td>88</td>\n",
              "      <td>104</td>\n",
              "      <td>119</td>\n",
              "      <td>92</td>\n",
              "      <td>74</td>\n",
              "      <td>79</td>\n",
              "      <td>88</td>\n",
              "      <td>74</td>\n",
              "      <td>67</td>\n",
              "      <td>90</td>\n",
              "      <td>68</td>\n",
              "      <td>71</td>\n",
              "      <td>73</td>\n",
              "      <td>68</td>\n",
              "      <td>71</td>\n",
              "      <td>77</td>\n",
              "      <td>90</td>\n",
              "      <td>67</td>\n",
              "      <td>71</td>\n",
              "      <td>82</td>\n",
              "      <td>65</td>\n",
              "      <td>70</td>\n",
              "      <td>75</td>\n",
              "      <td>89</td>\n",
              "      <td>73</td>\n",
              "      <td>67</td>\n",
              "      <td>71</td>\n",
              "      <td>89</td>\n",
              "      <td>73</td>\n",
              "    </tr>\n",
              "    <tr>\n",
              "      <th>2</th>\n",
              "      <td>GR</td>\n",
              "      <td>175</td>\n",
              "      <td>138</td>\n",
              "      <td>106</td>\n",
              "      <td>105</td>\n",
              "      <td>135</td>\n",
              "      <td>109</td>\n",
              "      <td>75</td>\n",
              "      <td>95</td>\n",
              "      <td>113</td>\n",
              "      <td>96</td>\n",
              "      <td>74</td>\n",
              "      <td>112</td>\n",
              "      <td>96</td>\n",
              "      <td>70</td>\n",
              "      <td>87</td>\n",
              "      <td>100</td>\n",
              "      <td>66</td>\n",
              "      <td>83</td>\n",
              "      <td>117</td>\n",
              "      <td>67</td>\n",
              "      <td>88</td>\n",
              "      <td>110</td>\n",
              "      <td>98</td>\n",
              "      <td>67</td>\n",
              "      <td>88</td>\n",
              "      <td>119</td>\n",
              "      <td>98</td>\n",
              "      <td>75</td>\n",
              "      <td>91</td>\n",
              "      <td>110</td>\n",
              "      <td>94</td>\n",
              "    </tr>\n",
              "    <tr>\n",
              "      <th>3</th>\n",
              "      <td>PH</td>\n",
              "      <td>176</td>\n",
              "      <td>111</td>\n",
              "      <td>80</td>\n",
              "      <td>106</td>\n",
              "      <td>131</td>\n",
              "      <td>96</td>\n",
              "      <td>76</td>\n",
              "      <td>99</td>\n",
              "      <td>104</td>\n",
              "      <td>85</td>\n",
              "      <td>75</td>\n",
              "      <td>89</td>\n",
              "      <td>75</td>\n",
              "      <td>79</td>\n",
              "      <td>91</td>\n",
              "      <td>75</td>\n",
              "      <td>84</td>\n",
              "      <td>103</td>\n",
              "      <td>109</td>\n",
              "      <td>82</td>\n",
              "      <td>91</td>\n",
              "      <td>96</td>\n",
              "      <td>78</td>\n",
              "      <td>78</td>\n",
              "      <td>91</td>\n",
              "      <td>96</td>\n",
              "      <td>78</td>\n",
              "      <td>82</td>\n",
              "      <td>104</td>\n",
              "      <td>112</td>\n",
              "      <td>85</td>\n",
              "    </tr>\n",
              "    <tr>\n",
              "      <th>4</th>\n",
              "      <td>EL</td>\n",
              "      <td>182</td>\n",
              "      <td>144</td>\n",
              "      <td>111</td>\n",
              "      <td>100</td>\n",
              "      <td>151</td>\n",
              "      <td>119</td>\n",
              "      <td>67</td>\n",
              "      <td>106</td>\n",
              "      <td>114</td>\n",
              "      <td>90</td>\n",
              "      <td>76</td>\n",
              "      <td>115</td>\n",
              "      <td>94</td>\n",
              "      <td>68</td>\n",
              "      <td>106</td>\n",
              "      <td>91</td>\n",
              "      <td>68</td>\n",
              "      <td>102</td>\n",
              "      <td>115</td>\n",
              "      <td>71</td>\n",
              "      <td>95</td>\n",
              "      <td>108</td>\n",
              "      <td>88</td>\n",
              "      <td>71</td>\n",
              "      <td>103</td>\n",
              "      <td>113</td>\n",
              "      <td>92</td>\n",
              "      <td>68</td>\n",
              "      <td>107</td>\n",
              "      <td>118</td>\n",
              "      <td>92</td>\n",
              "    </tr>\n",
              "    <tr>\n",
              "      <th>...</th>\n",
              "      <td>...</td>\n",
              "      <td>...</td>\n",
              "      <td>...</td>\n",
              "      <td>...</td>\n",
              "      <td>...</td>\n",
              "      <td>...</td>\n",
              "      <td>...</td>\n",
              "      <td>...</td>\n",
              "      <td>...</td>\n",
              "      <td>...</td>\n",
              "      <td>...</td>\n",
              "      <td>...</td>\n",
              "      <td>...</td>\n",
              "      <td>...</td>\n",
              "      <td>...</td>\n",
              "      <td>...</td>\n",
              "      <td>...</td>\n",
              "      <td>...</td>\n",
              "      <td>...</td>\n",
              "      <td>...</td>\n",
              "      <td>...</td>\n",
              "      <td>...</td>\n",
              "      <td>...</td>\n",
              "      <td>...</td>\n",
              "      <td>...</td>\n",
              "      <td>...</td>\n",
              "      <td>...</td>\n",
              "      <td>...</td>\n",
              "      <td>...</td>\n",
              "      <td>...</td>\n",
              "      <td>...</td>\n",
              "      <td>...</td>\n",
              "    </tr>\n",
              "    <tr>\n",
              "      <th>4275</th>\n",
              "      <td>EL</td>\n",
              "      <td>153</td>\n",
              "      <td>120</td>\n",
              "      <td>95</td>\n",
              "      <td>83</td>\n",
              "      <td>123</td>\n",
              "      <td>104</td>\n",
              "      <td>53</td>\n",
              "      <td>83</td>\n",
              "      <td>100</td>\n",
              "      <td>85</td>\n",
              "      <td>51</td>\n",
              "      <td>100</td>\n",
              "      <td>79</td>\n",
              "      <td>51</td>\n",
              "      <td>75</td>\n",
              "      <td>79</td>\n",
              "      <td>51</td>\n",
              "      <td>72</td>\n",
              "      <td>89</td>\n",
              "      <td>49</td>\n",
              "      <td>75</td>\n",
              "      <td>100</td>\n",
              "      <td>78</td>\n",
              "      <td>52</td>\n",
              "      <td>67</td>\n",
              "      <td>84</td>\n",
              "      <td>78</td>\n",
              "      <td>52</td>\n",
              "      <td>71</td>\n",
              "      <td>84</td>\n",
              "      <td>78</td>\n",
              "    </tr>\n",
              "    <tr>\n",
              "      <th>4276</th>\n",
              "      <td>PH</td>\n",
              "      <td>179</td>\n",
              "      <td>110</td>\n",
              "      <td>82</td>\n",
              "      <td>109</td>\n",
              "      <td>135</td>\n",
              "      <td>97</td>\n",
              "      <td>83</td>\n",
              "      <td>95</td>\n",
              "      <td>97</td>\n",
              "      <td>75</td>\n",
              "      <td>78</td>\n",
              "      <td>93</td>\n",
              "      <td>73</td>\n",
              "      <td>82</td>\n",
              "      <td>92</td>\n",
              "      <td>76</td>\n",
              "      <td>78</td>\n",
              "      <td>88</td>\n",
              "      <td>85</td>\n",
              "      <td>76</td>\n",
              "      <td>85</td>\n",
              "      <td>86</td>\n",
              "      <td>68</td>\n",
              "      <td>80</td>\n",
              "      <td>94</td>\n",
              "      <td>94</td>\n",
              "      <td>76</td>\n",
              "      <td>80</td>\n",
              "      <td>89</td>\n",
              "      <td>94</td>\n",
              "      <td>72</td>\n",
              "    </tr>\n",
              "    <tr>\n",
              "      <th>4277</th>\n",
              "      <td>EL</td>\n",
              "      <td>171</td>\n",
              "      <td>138</td>\n",
              "      <td>106</td>\n",
              "      <td>106</td>\n",
              "      <td>152</td>\n",
              "      <td>122</td>\n",
              "      <td>76</td>\n",
              "      <td>112</td>\n",
              "      <td>122</td>\n",
              "      <td>99</td>\n",
              "      <td>79</td>\n",
              "      <td>118</td>\n",
              "      <td>96</td>\n",
              "      <td>84</td>\n",
              "      <td>116</td>\n",
              "      <td>96</td>\n",
              "      <td>75</td>\n",
              "      <td>107</td>\n",
              "      <td>123</td>\n",
              "      <td>66</td>\n",
              "      <td>96</td>\n",
              "      <td>112</td>\n",
              "      <td>92</td>\n",
              "      <td>70</td>\n",
              "      <td>100</td>\n",
              "      <td>117</td>\n",
              "      <td>92</td>\n",
              "      <td>66</td>\n",
              "      <td>109</td>\n",
              "      <td>122</td>\n",
              "      <td>92</td>\n",
              "    </tr>\n",
              "    <tr>\n",
              "      <th>4278</th>\n",
              "      <td>PH</td>\n",
              "      <td>175</td>\n",
              "      <td>109</td>\n",
              "      <td>81</td>\n",
              "      <td>105</td>\n",
              "      <td>123</td>\n",
              "      <td>81</td>\n",
              "      <td>71</td>\n",
              "      <td>79</td>\n",
              "      <td>85</td>\n",
              "      <td>67</td>\n",
              "      <td>78</td>\n",
              "      <td>88</td>\n",
              "      <td>70</td>\n",
              "      <td>74</td>\n",
              "      <td>87</td>\n",
              "      <td>66</td>\n",
              "      <td>78</td>\n",
              "      <td>87</td>\n",
              "      <td>84</td>\n",
              "      <td>75</td>\n",
              "      <td>84</td>\n",
              "      <td>90</td>\n",
              "      <td>68</td>\n",
              "      <td>75</td>\n",
              "      <td>88</td>\n",
              "      <td>97</td>\n",
              "      <td>75</td>\n",
              "      <td>75</td>\n",
              "      <td>88</td>\n",
              "      <td>97</td>\n",
              "      <td>72</td>\n",
              "    </tr>\n",
              "    <tr>\n",
              "      <th>4279</th>\n",
              "      <td>EL</td>\n",
              "      <td>180</td>\n",
              "      <td>142</td>\n",
              "      <td>106</td>\n",
              "      <td>106</td>\n",
              "      <td>147</td>\n",
              "      <td>118</td>\n",
              "      <td>84</td>\n",
              "      <td>116</td>\n",
              "      <td>128</td>\n",
              "      <td>103</td>\n",
              "      <td>84</td>\n",
              "      <td>118</td>\n",
              "      <td>96</td>\n",
              "      <td>71</td>\n",
              "      <td>79</td>\n",
              "      <td>92</td>\n",
              "      <td>79</td>\n",
              "      <td>103</td>\n",
              "      <td>123</td>\n",
              "      <td>78</td>\n",
              "      <td>104</td>\n",
              "      <td>112</td>\n",
              "      <td>96</td>\n",
              "      <td>74</td>\n",
              "      <td>83</td>\n",
              "      <td>108</td>\n",
              "      <td>89</td>\n",
              "      <td>66</td>\n",
              "      <td>71</td>\n",
              "      <td>100</td>\n",
              "      <td>85</td>\n",
              "    </tr>\n",
              "  </tbody>\n",
              "</table>\n",
              "<p>4280 rows × 32 columns</p>\n",
              "</div>"
            ],
            "text/plain": [
              "       a    b    c    d    e    f    g   h  ...   y    z   aa  ab  ac   ad   ae  af\n",
              "0     HI  188  128   95  114  143  108  88  ...  70   79   84  66  70   75   76  63\n",
              "1     PH  174  112   88  104  119   92  74  ...  70   75   89  73  67   71   89  73\n",
              "2     GR  175  138  106  105  135  109  75  ...  67   88  119  98  75   91  110  94\n",
              "3     PH  176  111   80  106  131   96  76  ...  78   91   96  78  82  104  112  85\n",
              "4     EL  182  144  111  100  151  119  67  ...  71  103  113  92  68  107  118  92\n",
              "...   ..  ...  ...  ...  ...  ...  ...  ..  ...  ..  ...  ...  ..  ..  ...  ...  ..\n",
              "4275  EL  153  120   95   83  123  104  53  ...  52   67   84  78  52   71   84  78\n",
              "4276  PH  179  110   82  109  135   97  83  ...  80   94   94  76  80   89   94  72\n",
              "4277  EL  171  138  106  106  152  122  76  ...  70  100  117  92  66  109  122  92\n",
              "4278  PH  175  109   81  105  123   81  71  ...  75   88   97  75  75   88   97  72\n",
              "4279  EL  180  142  106  106  147  118  84  ...  74   83  108  89  66   71  100  85\n",
              "\n",
              "[4280 rows x 32 columns]"
            ]
          },
          "metadata": {
            "tags": []
          },
          "execution_count": 3
        }
      ]
    },
    {
      "cell_type": "code",
      "metadata": {
        "id": "r2wfyQnViWhZ"
      },
      "source": [
        "df_x = MyTrainset.loc[:,MyTrainset.columns != 'a']\n",
        "df_y = MyTrainset.loc[:,'a']"
      ],
      "execution_count": 4,
      "outputs": []
    },
    {
      "cell_type": "code",
      "metadata": {
        "id": "XlqBXBW6jDQW"
      },
      "source": [
        "from sklearn.feature_selection import SelectKBest\n",
        "from sklearn.feature_selection import chi2"
      ],
      "execution_count": 5,
      "outputs": []
    },
    {
      "cell_type": "code",
      "metadata": {
        "id": "rSVhLFVgn1zH"
      },
      "source": [
        "test = SelectKBest(score_func=chi2, k=df_x.shape[1])\n",
        "fit= test.fit(df_x,df_y)"
      ],
      "execution_count": 6,
      "outputs": []
    },
    {
      "cell_type": "code",
      "metadata": {
        "id": "-zfF2Zl3oTVU"
      },
      "source": [
        "f_order= np.argsort(-fit.scores_)\n",
        "sorted_columns= df_x.columns[f_order]"
      ],
      "execution_count": 7,
      "outputs": []
    },
    {
      "cell_type": "code",
      "metadata": {
        "id": "nnOESZFUqcsk",
        "outputId": "7e94593e-fdec-467f-c1aa-6f1266694464",
        "colab": {
          "base_uri": "https://localhost:8080/",
          "height": 89
        }
      },
      "source": [
        "print(sorted_columns)"
      ],
      "execution_count": 7,
      "outputs": [
        {
          "output_type": "stream",
          "text": [
            "Index(['p', 's', 'z', 'ad', 'i', 'v', 'q', 'f', 'n', 'ab', 'x', 'k', 'af', 'd',\n",
            "       'o', 'r', 'l', 'y', 'ac', 'u', 'h', 't', 'm', 'g', 'aa', 'j', 'w', 'ae',\n",
            "       'e', 'c', 'b'],\n",
            "      dtype='object')\n"
          ],
          "name": "stdout"
        }
      ]
    },
    {
      "cell_type": "code",
      "metadata": {
        "id": "32QIRGQF7ZcB"
      },
      "source": [
        "model = LGBMClassifier(n_estimators=311,min_samples_leaf=1,min_samples_split=1,max_features='sqrt',max_depth=50,bootstrap='false')\n",
        "for i in range(1, df_x.shape[1]+1):\n",
        "  fs = sorted_columns[0:i]\n",
        "  df_x_selected= df_x[fs]\n",
        "  scores = cross_val_score(model, df_x_selected, df_y, cv=5)\n",
        "  print(fs.tolist())\n",
        "  print(np.round(scores.mean(), 4))"
      ],
      "execution_count": null,
      "outputs": []
    },
    {
      "cell_type": "code",
      "metadata": {
        "id": "l4qNdEgwous8"
      },
      "source": [
        "from sklearn import model_selection\n",
        "from sklearn.model_selection import cross_val_score\n",
        "from sklearn.linear_model import LogisticRegression\n",
        "from sklearn.ensemble import RandomForestClassifier\n",
        "from sklearn.neighbors import KNeighborsClassifier\n",
        "from sklearn.tree import DecisionTreeClassifier\n",
        "from sklearn.ensemble import GradientBoostingClassifier\n",
        "from sklearn.ensemble import VotingClassifier\n",
        "from lightgbm import LGBMClassifier #\n",
        "from xgboost import XGBClassifier #\n",
        "from sklearn.model_selection import StratifiedKFold #\n",
        "from sklearn.svm import SVC"
      ],
      "execution_count": 8,
      "outputs": []
    },
    {
      "cell_type": "markdown",
      "metadata": {
        "id": "gnNHnmCSut9F"
      },
      "source": [
        "![image.png](data:image/png;base64,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)"
      ]
    },
    {
      "cell_type": "code",
      "metadata": {
        "id": "zOLWR6C6uwgJ",
        "outputId": "90cd0dbb-12c8-4735-fd80-47c20786c807",
        "colab": {
          "base_uri": "https://localhost:8080/",
          "height": 71
        }
      },
      "source": [
        "results = []\n",
        "names = []\n",
        "scoring = 'accuracy'\n",
        "models = []\n",
        "#models.append(('RF', RandomForestClassifier(n_estimators=100,min_samples_leaf=1,min_samples_split=3,max_features='auto',max_depth=40,bootstrap='false')))\n",
        "models.append(('LGBM',LGBMClassifier()))\n",
        "models.append(('XGB',XGBClassifier()))\n",
        "models.append(('GBC',GradientBoostingClassifier()))\n",
        "for name, model in models:\n",
        "  kfold= model_selection.KFold(n_splits=10, shuffle=True)\n",
        "  cv_results= model_selection.cross_val_score(model, df_x, df_y, cv=kfold, scoring=scoring)\n",
        "  results.append(cv_results)\n",
        "  names.append(name)\n",
        "  msg = \"%s: %f (%f)\" % (name, cv_results.mean(),   cv_results.std())\n",
        "  print(msg)"
      ],
      "execution_count": null,
      "outputs": [
        {
          "output_type": "stream",
          "text": [
            "LGBM: 0.915187 (0.007823)\n",
            "XGB: 0.895093 (0.015479)\n",
            "GBC: 0.901636 (0.017024)\n"
          ],
          "name": "stdout"
        }
      ]
    },
    {
      "cell_type": "code",
      "metadata": {
        "id": "Q96e96wCRzYx"
      },
      "source": [
        "from sklearn.metrics import accuracy_score"
      ],
      "execution_count": 16,
      "outputs": []
    },
    {
      "cell_type": "code",
      "metadata": {
        "id": "z9Lx_jfHRTFu"
      },
      "source": [
        "vot = VotingClassifier(estimators=[('rf',RandomForestClassifier(n_estimators=1000,min_samples_leaf=1,min_samples_split=2,max_features='auto',max_depth=50,bootstrap='false')),('lgbm',LGBMClassifier(n_estimators=1000,min_samples_leaf=1,min_samples_split=2,max_features='auto',max_depth=50,bootstrap='false')),('xgb',XGBClassifier(n_estimators=1000,min_samples_leaf=1,min_samples_split=2,max_features='auto',max_depth=50,bootstrap='false')),('GBC',GradientBoostingClassifier())],voting='soft')"
      ],
      "execution_count": null,
      "outputs": []
    },
    {
      "cell_type": "code",
      "metadata": {
        "id": "IYfIl-8fRcd2"
      },
      "source": [
        "vot.fit(train_x,train_y)\n",
        "votPred_y = vot.predict(test_x)\n",
        "print(accuracy_score(test_y,votPred_y))"
      ],
      "execution_count": null,
      "outputs": []
    },
    {
      "cell_type": "code",
      "metadata": {
        "id": "PA_hcWGCxPTP"
      },
      "source": [
        "from sklearn.preprocessing import StandardScaler"
      ],
      "execution_count": null,
      "outputs": []
    },
    {
      "cell_type": "code",
      "metadata": {
        "id": "36mwKCaR0o38"
      },
      "source": [
        "df_x_scale = df_x"
      ],
      "execution_count": null,
      "outputs": []
    },
    {
      "cell_type": "code",
      "metadata": {
        "id": "6WS_z5-d0uOg",
        "outputId": "b2f8ad78-9381-4d01-a49f-b9d1cb48e0b2",
        "colab": {
          "base_uri": "https://localhost:8080/",
          "height": 419
        }
      },
      "source": [
        "df_x_scale"
      ],
      "execution_count": null,
      "outputs": [
        {
          "output_type": "execute_result",
          "data": {
            "text/html": [
              "<div>\n",
              "<style scoped>\n",
              "    .dataframe tbody tr th:only-of-type {\n",
              "        vertical-align: middle;\n",
              "    }\n",
              "\n",
              "    .dataframe tbody tr th {\n",
              "        vertical-align: top;\n",
              "    }\n",
              "\n",
              "    .dataframe thead th {\n",
              "        text-align: right;\n",
              "    }\n",
              "</style>\n",
              "<table border=\"1\" class=\"dataframe\">\n",
              "  <thead>\n",
              "    <tr style=\"text-align: right;\">\n",
              "      <th></th>\n",
              "      <th>b</th>\n",
              "      <th>c</th>\n",
              "      <th>d</th>\n",
              "      <th>e</th>\n",
              "      <th>f</th>\n",
              "      <th>g</th>\n",
              "      <th>h</th>\n",
              "      <th>i</th>\n",
              "      <th>j</th>\n",
              "      <th>k</th>\n",
              "      <th>l</th>\n",
              "      <th>m</th>\n",
              "      <th>n</th>\n",
              "      <th>o</th>\n",
              "      <th>p</th>\n",
              "      <th>q</th>\n",
              "      <th>r</th>\n",
              "      <th>s</th>\n",
              "      <th>t</th>\n",
              "      <th>u</th>\n",
              "      <th>v</th>\n",
              "      <th>w</th>\n",
              "      <th>x</th>\n",
              "      <th>y</th>\n",
              "      <th>z</th>\n",
              "      <th>aa</th>\n",
              "      <th>ab</th>\n",
              "      <th>ac</th>\n",
              "      <th>ad</th>\n",
              "      <th>ae</th>\n",
              "      <th>af</th>\n",
              "    </tr>\n",
              "  </thead>\n",
              "  <tbody>\n",
              "    <tr>\n",
              "      <th>0</th>\n",
              "      <td>188</td>\n",
              "      <td>128</td>\n",
              "      <td>95</td>\n",
              "      <td>114</td>\n",
              "      <td>143</td>\n",
              "      <td>108</td>\n",
              "      <td>88</td>\n",
              "      <td>103</td>\n",
              "      <td>113</td>\n",
              "      <td>85</td>\n",
              "      <td>88</td>\n",
              "      <td>113</td>\n",
              "      <td>87</td>\n",
              "      <td>88</td>\n",
              "      <td>103</td>\n",
              "      <td>87</td>\n",
              "      <td>84</td>\n",
              "      <td>99</td>\n",
              "      <td>104</td>\n",
              "      <td>82</td>\n",
              "      <td>96</td>\n",
              "      <td>100</td>\n",
              "      <td>78</td>\n",
              "      <td>70</td>\n",
              "      <td>79</td>\n",
              "      <td>84</td>\n",
              "      <td>66</td>\n",
              "      <td>70</td>\n",
              "      <td>75</td>\n",
              "      <td>76</td>\n",
              "      <td>63</td>\n",
              "    </tr>\n",
              "    <tr>\n",
              "      <th>1</th>\n",
              "      <td>174</td>\n",
              "      <td>112</td>\n",
              "      <td>88</td>\n",
              "      <td>104</td>\n",
              "      <td>119</td>\n",
              "      <td>92</td>\n",
              "      <td>74</td>\n",
              "      <td>79</td>\n",
              "      <td>88</td>\n",
              "      <td>74</td>\n",
              "      <td>67</td>\n",
              "      <td>90</td>\n",
              "      <td>68</td>\n",
              "      <td>71</td>\n",
              "      <td>73</td>\n",
              "      <td>68</td>\n",
              "      <td>71</td>\n",
              "      <td>77</td>\n",
              "      <td>90</td>\n",
              "      <td>67</td>\n",
              "      <td>71</td>\n",
              "      <td>82</td>\n",
              "      <td>65</td>\n",
              "      <td>70</td>\n",
              "      <td>75</td>\n",
              "      <td>89</td>\n",
              "      <td>73</td>\n",
              "      <td>67</td>\n",
              "      <td>71</td>\n",
              "      <td>89</td>\n",
              "      <td>73</td>\n",
              "    </tr>\n",
              "    <tr>\n",
              "      <th>2</th>\n",
              "      <td>175</td>\n",
              "      <td>138</td>\n",
              "      <td>106</td>\n",
              "      <td>105</td>\n",
              "      <td>135</td>\n",
              "      <td>109</td>\n",
              "      <td>75</td>\n",
              "      <td>95</td>\n",
              "      <td>113</td>\n",
              "      <td>96</td>\n",
              "      <td>74</td>\n",
              "      <td>112</td>\n",
              "      <td>96</td>\n",
              "      <td>70</td>\n",
              "      <td>87</td>\n",
              "      <td>100</td>\n",
              "      <td>66</td>\n",
              "      <td>83</td>\n",
              "      <td>117</td>\n",
              "      <td>67</td>\n",
              "      <td>88</td>\n",
              "      <td>110</td>\n",
              "      <td>98</td>\n",
              "      <td>67</td>\n",
              "      <td>88</td>\n",
              "      <td>119</td>\n",
              "      <td>98</td>\n",
              "      <td>75</td>\n",
              "      <td>91</td>\n",
              "      <td>110</td>\n",
              "      <td>94</td>\n",
              "    </tr>\n",
              "    <tr>\n",
              "      <th>3</th>\n",
              "      <td>176</td>\n",
              "      <td>111</td>\n",
              "      <td>80</td>\n",
              "      <td>106</td>\n",
              "      <td>131</td>\n",
              "      <td>96</td>\n",
              "      <td>76</td>\n",
              "      <td>99</td>\n",
              "      <td>104</td>\n",
              "      <td>85</td>\n",
              "      <td>75</td>\n",
              "      <td>89</td>\n",
              "      <td>75</td>\n",
              "      <td>79</td>\n",
              "      <td>91</td>\n",
              "      <td>75</td>\n",
              "      <td>84</td>\n",
              "      <td>103</td>\n",
              "      <td>109</td>\n",
              "      <td>82</td>\n",
              "      <td>91</td>\n",
              "      <td>96</td>\n",
              "      <td>78</td>\n",
              "      <td>78</td>\n",
              "      <td>91</td>\n",
              "      <td>96</td>\n",
              "      <td>78</td>\n",
              "      <td>82</td>\n",
              "      <td>104</td>\n",
              "      <td>112</td>\n",
              "      <td>85</td>\n",
              "    </tr>\n",
              "    <tr>\n",
              "      <th>4</th>\n",
              "      <td>182</td>\n",
              "      <td>144</td>\n",
              "      <td>111</td>\n",
              "      <td>100</td>\n",
              "      <td>151</td>\n",
              "      <td>119</td>\n",
              "      <td>67</td>\n",
              "      <td>106</td>\n",
              "      <td>114</td>\n",
              "      <td>90</td>\n",
              "      <td>76</td>\n",
              "      <td>115</td>\n",
              "      <td>94</td>\n",
              "      <td>68</td>\n",
              "      <td>106</td>\n",
              "      <td>91</td>\n",
              "      <td>68</td>\n",
              "      <td>102</td>\n",
              "      <td>115</td>\n",
              "      <td>71</td>\n",
              "      <td>95</td>\n",
              "      <td>108</td>\n",
              "      <td>88</td>\n",
              "      <td>71</td>\n",
              "      <td>103</td>\n",
              "      <td>113</td>\n",
              "      <td>92</td>\n",
              "      <td>68</td>\n",
              "      <td>107</td>\n",
              "      <td>118</td>\n",
              "      <td>92</td>\n",
              "    </tr>\n",
              "    <tr>\n",
              "      <th>...</th>\n",
              "      <td>...</td>\n",
              "      <td>...</td>\n",
              "      <td>...</td>\n",
              "      <td>...</td>\n",
              "      <td>...</td>\n",
              "      <td>...</td>\n",
              "      <td>...</td>\n",
              "      <td>...</td>\n",
              "      <td>...</td>\n",
              "      <td>...</td>\n",
              "      <td>...</td>\n",
              "      <td>...</td>\n",
              "      <td>...</td>\n",
              "      <td>...</td>\n",
              "      <td>...</td>\n",
              "      <td>...</td>\n",
              "      <td>...</td>\n",
              "      <td>...</td>\n",
              "      <td>...</td>\n",
              "      <td>...</td>\n",
              "      <td>...</td>\n",
              "      <td>...</td>\n",
              "      <td>...</td>\n",
              "      <td>...</td>\n",
              "      <td>...</td>\n",
              "      <td>...</td>\n",
              "      <td>...</td>\n",
              "      <td>...</td>\n",
              "      <td>...</td>\n",
              "      <td>...</td>\n",
              "      <td>...</td>\n",
              "    </tr>\n",
              "    <tr>\n",
              "      <th>4275</th>\n",
              "      <td>153</td>\n",
              "      <td>120</td>\n",
              "      <td>95</td>\n",
              "      <td>83</td>\n",
              "      <td>123</td>\n",
              "      <td>104</td>\n",
              "      <td>53</td>\n",
              "      <td>83</td>\n",
              "      <td>100</td>\n",
              "      <td>85</td>\n",
              "      <td>51</td>\n",
              "      <td>100</td>\n",
              "      <td>79</td>\n",
              "      <td>51</td>\n",
              "      <td>75</td>\n",
              "      <td>79</td>\n",
              "      <td>51</td>\n",
              "      <td>72</td>\n",
              "      <td>89</td>\n",
              "      <td>49</td>\n",
              "      <td>75</td>\n",
              "      <td>100</td>\n",
              "      <td>78</td>\n",
              "      <td>52</td>\n",
              "      <td>67</td>\n",
              "      <td>84</td>\n",
              "      <td>78</td>\n",
              "      <td>52</td>\n",
              "      <td>71</td>\n",
              "      <td>84</td>\n",
              "      <td>78</td>\n",
              "    </tr>\n",
              "    <tr>\n",
              "      <th>4276</th>\n",
              "      <td>179</td>\n",
              "      <td>110</td>\n",
              "      <td>82</td>\n",
              "      <td>109</td>\n",
              "      <td>135</td>\n",
              "      <td>97</td>\n",
              "      <td>83</td>\n",
              "      <td>95</td>\n",
              "      <td>97</td>\n",
              "      <td>75</td>\n",
              "      <td>78</td>\n",
              "      <td>93</td>\n",
              "      <td>73</td>\n",
              "      <td>82</td>\n",
              "      <td>92</td>\n",
              "      <td>76</td>\n",
              "      <td>78</td>\n",
              "      <td>88</td>\n",
              "      <td>85</td>\n",
              "      <td>76</td>\n",
              "      <td>85</td>\n",
              "      <td>86</td>\n",
              "      <td>68</td>\n",
              "      <td>80</td>\n",
              "      <td>94</td>\n",
              "      <td>94</td>\n",
              "      <td>76</td>\n",
              "      <td>80</td>\n",
              "      <td>89</td>\n",
              "      <td>94</td>\n",
              "      <td>72</td>\n",
              "    </tr>\n",
              "    <tr>\n",
              "      <th>4277</th>\n",
              "      <td>171</td>\n",
              "      <td>138</td>\n",
              "      <td>106</td>\n",
              "      <td>106</td>\n",
              "      <td>152</td>\n",
              "      <td>122</td>\n",
              "      <td>76</td>\n",
              "      <td>112</td>\n",
              "      <td>122</td>\n",
              "      <td>99</td>\n",
              "      <td>79</td>\n",
              "      <td>118</td>\n",
              "      <td>96</td>\n",
              "      <td>84</td>\n",
              "      <td>116</td>\n",
              "      <td>96</td>\n",
              "      <td>75</td>\n",
              "      <td>107</td>\n",
              "      <td>123</td>\n",
              "      <td>66</td>\n",
              "      <td>96</td>\n",
              "      <td>112</td>\n",
              "      <td>92</td>\n",
              "      <td>70</td>\n",
              "      <td>100</td>\n",
              "      <td>117</td>\n",
              "      <td>92</td>\n",
              "      <td>66</td>\n",
              "      <td>109</td>\n",
              "      <td>122</td>\n",
              "      <td>92</td>\n",
              "    </tr>\n",
              "    <tr>\n",
              "      <th>4278</th>\n",
              "      <td>175</td>\n",
              "      <td>109</td>\n",
              "      <td>81</td>\n",
              "      <td>105</td>\n",
              "      <td>123</td>\n",
              "      <td>81</td>\n",
              "      <td>71</td>\n",
              "      <td>79</td>\n",
              "      <td>85</td>\n",
              "      <td>67</td>\n",
              "      <td>78</td>\n",
              "      <td>88</td>\n",
              "      <td>70</td>\n",
              "      <td>74</td>\n",
              "      <td>87</td>\n",
              "      <td>66</td>\n",
              "      <td>78</td>\n",
              "      <td>87</td>\n",
              "      <td>84</td>\n",
              "      <td>75</td>\n",
              "      <td>84</td>\n",
              "      <td>90</td>\n",
              "      <td>68</td>\n",
              "      <td>75</td>\n",
              "      <td>88</td>\n",
              "      <td>97</td>\n",
              "      <td>75</td>\n",
              "      <td>75</td>\n",
              "      <td>88</td>\n",
              "      <td>97</td>\n",
              "      <td>72</td>\n",
              "    </tr>\n",
              "    <tr>\n",
              "      <th>4279</th>\n",
              "      <td>180</td>\n",
              "      <td>142</td>\n",
              "      <td>106</td>\n",
              "      <td>106</td>\n",
              "      <td>147</td>\n",
              "      <td>118</td>\n",
              "      <td>84</td>\n",
              "      <td>116</td>\n",
              "      <td>128</td>\n",
              "      <td>103</td>\n",
              "      <td>84</td>\n",
              "      <td>118</td>\n",
              "      <td>96</td>\n",
              "      <td>71</td>\n",
              "      <td>79</td>\n",
              "      <td>92</td>\n",
              "      <td>79</td>\n",
              "      <td>103</td>\n",
              "      <td>123</td>\n",
              "      <td>78</td>\n",
              "      <td>104</td>\n",
              "      <td>112</td>\n",
              "      <td>96</td>\n",
              "      <td>74</td>\n",
              "      <td>83</td>\n",
              "      <td>108</td>\n",
              "      <td>89</td>\n",
              "      <td>66</td>\n",
              "      <td>71</td>\n",
              "      <td>100</td>\n",
              "      <td>85</td>\n",
              "    </tr>\n",
              "  </tbody>\n",
              "</table>\n",
              "<p>4280 rows × 31 columns</p>\n",
              "</div>"
            ],
            "text/plain": [
              "        b    c    d    e    f    g   h    i  ...   y    z   aa  ab  ac   ad   ae  af\n",
              "0     188  128   95  114  143  108  88  103  ...  70   79   84  66  70   75   76  63\n",
              "1     174  112   88  104  119   92  74   79  ...  70   75   89  73  67   71   89  73\n",
              "2     175  138  106  105  135  109  75   95  ...  67   88  119  98  75   91  110  94\n",
              "3     176  111   80  106  131   96  76   99  ...  78   91   96  78  82  104  112  85\n",
              "4     182  144  111  100  151  119  67  106  ...  71  103  113  92  68  107  118  92\n",
              "...   ...  ...  ...  ...  ...  ...  ..  ...  ...  ..  ...  ...  ..  ..  ...  ...  ..\n",
              "4275  153  120   95   83  123  104  53   83  ...  52   67   84  78  52   71   84  78\n",
              "4276  179  110   82  109  135   97  83   95  ...  80   94   94  76  80   89   94  72\n",
              "4277  171  138  106  106  152  122  76  112  ...  70  100  117  92  66  109  122  92\n",
              "4278  175  109   81  105  123   81  71   79  ...  75   88   97  75  75   88   97  72\n",
              "4279  180  142  106  106  147  118  84  116  ...  74   83  108  89  66   71  100  85\n",
              "\n",
              "[4280 rows x 31 columns]"
            ]
          },
          "metadata": {
            "tags": []
          },
          "execution_count": 14
        }
      ]
    },
    {
      "cell_type": "code",
      "metadata": {
        "id": "gjgR1ccn0gRD"
      },
      "source": [
        "scaler = StandardScaler()\n",
        "scaler.fit(df_x_scale) # X : input data\n",
        "x_scaled = scaler.transform(df_x_scale)"
      ],
      "execution_count": null,
      "outputs": []
    },
    {
      "cell_type": "code",
      "metadata": {
        "id": "1Vyli3qA05vr",
        "outputId": "1c422c47-7455-4aaf-9d3a-a1f1f78ad167",
        "colab": {
          "base_uri": "https://localhost:8080/",
          "height": 251
        }
      },
      "source": [
        "print(x_scaled)"
      ],
      "execution_count": null,
      "outputs": [
        {
          "output_type": "stream",
          "text": [
            "[[ 1.37622888  0.52991591  0.12809573 ... -0.33685619 -1.38622804\n",
            "  -1.02600162]\n",
            " [ 0.34817065 -0.4380135  -0.24385117 ... -0.51106408 -0.60431234\n",
            "  -0.50532447]\n",
            " [ 0.42160339  1.13487179  0.71258371 ...  0.35997537  0.65878224\n",
            "   0.58809754]\n",
            " ...\n",
            " [ 0.12787246  1.13487179  0.71258371 ...  1.14391087  1.38055058\n",
            "   0.48396211]\n",
            " [ 0.42160339 -0.61950026 -0.61579806 ...  0.22931945 -0.12313345\n",
            "  -0.55739219]\n",
            " [ 0.78876704  1.37685414  0.71258371 ... -0.51106408  0.05730863\n",
            "   0.11948811]]\n"
          ],
          "name": "stdout"
        }
      ]
    },
    {
      "cell_type": "code",
      "metadata": {
        "id": "ynBhTpla1Po8"
      },
      "source": [
        "from sklearn.model_selection import RandomizedSearchCV\n",
        "from sklearn.model_selection import train_test_split\n",
        "import pprint as pp"
      ],
      "execution_count": 17,
      "outputs": []
    },
    {
      "cell_type": "code",
      "metadata": {
        "id": "B8Ls9Hig6ftb"
      },
      "source": [
        "train_x, test_x, train_y, test_y = train_test_split(df_x, df_y, test_size=0.3) "
      ],
      "execution_count": 18,
      "outputs": []
    },
    {
      "cell_type": "code",
      "metadata": {
        "id": "SM6Eywsy6rwG",
        "outputId": "6a6a083d-48e2-4206-c9e6-3f6fe87bbab1",
        "colab": {
          "base_uri": "https://localhost:8080/",
          "height": 35
        }
      },
      "source": [
        "base_model = LGBMClassifier()\n",
        "base_model.fit(train_x, train_y)\n",
        "base_accuracy = base_model.score(test_x, test_y)\n",
        "print(base_accuracy)"
      ],
      "execution_count": null,
      "outputs": [
        {
          "output_type": "stream",
          "text": [
            "0.9096573208722741\n"
          ],
          "name": "stdout"
        }
      ]
    },
    {
      "cell_type": "code",
      "metadata": {
        "id": "SzGktNya2ICS"
      },
      "source": [
        "base_model = XGBClassifier()\n",
        "base_model.fit(train_x, train_y)\n",
        "base_accuracy = base_model.score(test_x, test_y)\n",
        "print(base_accuracy)"
      ],
      "execution_count": null,
      "outputs": []
    },
    {
      "cell_type": "code",
      "metadata": {
        "id": "v46kZN9q8I_t"
      },
      "source": [
        "# Number of trees in random forest\n",
        "n_estimators = [311] #[int(x) for x in np.linspace(start = 300, stop = 350, num = 1)]\n",
        "# Number of features to consider at every split\n",
        "max_features = 'sqrt' #['auto', 'sqrt']\n",
        "# Maximum number of levels in tree\n",
        "max_depth = [int(x) for x in np.linspace(50, 500, num = 10)]\n",
        "max_depth.append(None)\n",
        "# Minimum number of samples required to split a node\n",
        "min_samples_split = [1] #[1, 2, 3]\n",
        "# Minimum number of samples required at each leaf node\n",
        "min_samples_leaf = [1] #[1, 2, 3]\n",
        "# Method of selecting samples for training each tree\n",
        "bootstrap = [False] #[True, False]"
      ],
      "execution_count": null,
      "outputs": []
    },
    {
      "cell_type": "code",
      "metadata": {
        "id": "I-aI7nw38cv-"
      },
      "source": [
        "random_grid = {'n_estimators': n_estimators,\n",
        "'max_features': max_features,\n",
        "'max_depth': max_depth,\n",
        "'min_samples_split': min_samples_split,\n",
        "'min_samples_leaf': min_samples_leaf,\n",
        "'bootstrap': bootstrap}"
      ],
      "execution_count": null,
      "outputs": []
    },
    {
      "cell_type": "code",
      "metadata": {
        "id": "EA_19hB-ofH9"
      },
      "source": [
        "from sklearn.model_selection import GridSearchCV"
      ],
      "execution_count": null,
      "outputs": []
    },
    {
      "cell_type": "code",
      "metadata": {
        "id": "YFxWS0Q58feu"
      },
      "source": [
        "rf = LGBMClassifier()\n",
        "rf_random = RandomizedSearchCV(estimator = rf, param_distributions = random_grid, n_iter = 100, cv = 5, verbose=2, random_state=42, n_jobs = -1)"
      ],
      "execution_count": null,
      "outputs": []
    },
    {
      "cell_type": "code",
      "metadata": {
        "id": "C9XyF2Du8sGA",
        "outputId": "875b809f-8691-44fd-b2f3-1b1618d03c6e",
        "colab": {
          "base_uri": "https://localhost:8080/",
          "height": 618
        }
      },
      "source": [
        "rf_random.fit(train_x, train_y)"
      ],
      "execution_count": null,
      "outputs": [
        {
          "output_type": "stream",
          "text": [
            "Fitting 5 folds for each of 44 candidates, totalling 220 fits\n"
          ],
          "name": "stdout"
        },
        {
          "output_type": "stream",
          "text": [
            "/usr/local/lib/python3.6/dist-packages/sklearn/model_selection/_search.py:281: UserWarning: The total space of parameters 44 is smaller than n_iter=100. Running 44 iterations. For exhaustive searches, use GridSearchCV.\n",
            "  % (grid_size, self.n_iter, grid_size), UserWarning)\n",
            "[Parallel(n_jobs=-1)]: Using backend LokyBackend with 2 concurrent workers.\n",
            "[Parallel(n_jobs=-1)]: Done  37 tasks      | elapsed:  1.2min\n",
            "[Parallel(n_jobs=-1)]: Done 158 tasks      | elapsed:  4.9min\n",
            "[Parallel(n_jobs=-1)]: Done 220 out of 220 | elapsed:  6.8min finished\n"
          ],
          "name": "stderr"
        },
        {
          "output_type": "execute_result",
          "data": {
            "text/plain": [
              "RandomizedSearchCV(cv=5, error_score=nan,\n",
              "                   estimator=LGBMClassifier(boosting_type='gbdt',\n",
              "                                            class_weight=None,\n",
              "                                            colsample_bytree=1.0,\n",
              "                                            importance_type='split',\n",
              "                                            learning_rate=0.1, max_depth=-1,\n",
              "                                            min_child_samples=20,\n",
              "                                            min_child_weight=0.001,\n",
              "                                            min_split_gain=0.0,\n",
              "                                            n_estimators=100, n_jobs=-1,\n",
              "                                            num_leaves=31, objective=None,\n",
              "                                            random_state=None, reg_alpha=0.0,\n",
              "                                            reg_lambda=0.0, sile...\n",
              "                                            subsample_for_bin=200000,\n",
              "                                            subsample_freq=0),\n",
              "                   iid='deprecated', n_iter=100, n_jobs=-1,\n",
              "                   param_distributions={'bootstrap': [False],\n",
              "                                        'max_depth': [50, 100, 150, 200, 250,\n",
              "                                                      300, 350, 400, 450, 500,\n",
              "                                                      None],\n",
              "                                        'max_features': 'sqrt',\n",
              "                                        'min_samples_leaf': [1],\n",
              "                                        'min_samples_split': [1],\n",
              "                                        'n_estimators': [311]},\n",
              "                   pre_dispatch='2*n_jobs', random_state=42, refit=True,\n",
              "                   return_train_score=False, scoring=None, verbose=2)"
            ]
          },
          "metadata": {
            "tags": []
          },
          "execution_count": 66
        }
      ]
    },
    {
      "cell_type": "code",
      "metadata": {
        "id": "piq4MWhsichy",
        "outputId": "02503386-73a0-4153-c5b5-c5eec3a2a989",
        "colab": {
          "base_uri": "https://localhost:8080/",
          "height": 122
        }
      },
      "source": [
        "pp.pprint(rf_random.best_params_)"
      ],
      "execution_count": null,
      "outputs": [
        {
          "output_type": "stream",
          "text": [
            "{'bootstrap': False,\n",
            " 'max_depth': 50,\n",
            " 'max_features': 's',\n",
            " 'min_samples_leaf': 1,\n",
            " 'min_samples_split': 1,\n",
            " 'n_estimators': 311}\n"
          ],
          "name": "stdout"
        }
      ]
    },
    {
      "cell_type": "code",
      "metadata": {
        "id": "8kxUkgq8YEUG",
        "outputId": "cc95547e-ae91-49a5-fb8c-e3eea3c5ecb7",
        "colab": {
          "base_uri": "https://localhost:8080/",
          "height": 52
        }
      },
      "source": [
        "best_random_model = rf_random.best_estimator_\n",
        "best_random_accuracy = best_random_model.score(test_x, test_y)\n",
        "print('base acc: {0:0.2f}. best acc : {1:0.2f}'.format( \\\n",
        "base_accuracy, best_random_accuracy))\n",
        "print('Improvement of {:0.2f}%.'.format( 100 * \\\n",
        "(best_random_accuracy - base_accuracy) / base_accuracy))"
      ],
      "execution_count": null,
      "outputs": [
        {
          "output_type": "stream",
          "text": [
            "base acc: 0.91. best acc : 0.91\n",
            "Improvement of 0.34%.\n"
          ],
          "name": "stdout"
        }
      ]
    },
    {
      "cell_type": "code",
      "metadata": {
        "id": "a1r02WvmfMIz"
      },
      "source": [
        "rf_pred = 0\n",
        "LGBM_pred = 0\n",
        "XGB_pred = 0\n",
        "GBC_pred = 0"
      ],
      "execution_count": null,
      "outputs": []
    },
    {
      "cell_type": "code",
      "metadata": {
        "id": "GHA5Iw3dmhGE"
      },
      "source": [
        "knn_pred = 0"
      ],
      "execution_count": 43,
      "outputs": []
    },
    {
      "cell_type": "code",
      "metadata": {
        "id": "0hYD9Caik-Vi"
      },
      "source": [
        "#model = RandomForestClassifier(n_estimators=311,min_samples_leaf=1,min_samples_split=2,max_features='sqrt',max_depth=50)\n",
        "#model = LGBMClassifier(n_estimators=311,min_samples_leaf=1,min_samples_split=2,max_features='sqrt',max_depth=50)\n",
        "model = XGBClassifier(n_estimators=311,min_samples_leaf=1,min_samples_split=2,max_features='sqrt',max_depth=50)\n",
        "#model = GradientBoostingClassifier(n_estimators=311,min_samples_leaf=1,min_samples_split=2,max_features='sqrt',max_depth=50)\n",
        "model = KNeighborsClassifier()\n",
        "model.fit(best_train_x, best_train_y)\n",
        "pred_y = model.predict(testset)\n",
        "#print(pred_y)\n",
        "#print(len(pred_y))\n",
        "#print(accuracy_score(best_test_y,pred_y))\n",
        "XGB_pred = pred_y"
      ],
      "execution_count": 71,
      "outputs": []
    },
    {
      "cell_type": "code",
      "metadata": {
        "id": "Uw_UwVIagp3E"
      },
      "source": [
        "pred = np.array([rf_pred,LGBM_pred,XGB_pred,GBC_pred,knn_pred])"
      ],
      "execution_count": 72,
      "outputs": []
    },
    {
      "cell_type": "code",
      "metadata": {
        "id": "aWxIpQWugxM4"
      },
      "source": [
        "pred = np.transpose(pred)"
      ],
      "execution_count": 73,
      "outputs": []
    },
    {
      "cell_type": "code",
      "metadata": {
        "id": "sPC5-axutiHR",
        "outputId": "74bea814-d7bf-4bd7-bc65-8b113a84d11a",
        "colab": {
          "base_uri": "https://localhost:8080/",
          "height": 35
        }
      },
      "source": [
        "pred_final = LGBM_pred\n",
        "pred_final"
      ],
      "execution_count": 78,
      "outputs": [
        {
          "output_type": "execute_result",
          "data": {
            "text/plain": [
              "array(['HI', 'EL', 'HI', ..., 'PH', 'PH', 'CO'], dtype=object)"
            ]
          },
          "metadata": {
            "tags": []
          },
          "execution_count": 78
        }
      ]
    },
    {
      "cell_type": "code",
      "metadata": {
        "id": "l7-V7kKihcnt",
        "outputId": "39d0edc4-f639-49da-ecb5-b7d8caf1a8e4",
        "colab": {
          "base_uri": "https://localhost:8080/",
          "height": 143
        }
      },
      "source": [
        "pred"
      ],
      "execution_count": 74,
      "outputs": [
        {
          "output_type": "execute_result",
          "data": {
            "text/plain": [
              "array([['HI', 'HI', 'HI', 'HI', 'HI'],\n",
              "       ['EL', 'EL', 'EL', 'EL', 'EL'],\n",
              "       ['HI', 'HI', 'HI', 'HI', 'HI'],\n",
              "       ...,\n",
              "       ['PH', 'PH', 'PH', 'PH', 'PH'],\n",
              "       ['PH', 'PH', 'PH', 'PH', 'PH'],\n",
              "       ['CO', 'CO', 'HI', 'HI', 'HI']], dtype=object)"
            ]
          },
          "metadata": {
            "tags": []
          },
          "execution_count": 74
        }
      ]
    },
    {
      "cell_type": "code",
      "metadata": {
        "id": "M4lyJlXLxYgI",
        "outputId": "705059d6-a8b3-4371-fc19-fc8830ff265a",
        "colab": {
          "base_uri": "https://localhost:8080/",
          "height": 53
        }
      },
      "source": [
        "tmp = {}\n",
        "tmp['hi'] = 1\n",
        "if tmp['hi'] is not None:\n",
        "  print('hi2')\n",
        "pred[i][j]"
      ],
      "execution_count": 90,
      "outputs": [
        {
          "output_type": "stream",
          "text": [
            "hi2\n"
          ],
          "name": "stdout"
        },
        {
          "output_type": "execute_result",
          "data": {
            "application/vnd.google.colaboratory.intrinsic+json": {
              "type": "string"
            },
            "text/plain": [
              "'HI'"
            ]
          },
          "metadata": {
            "tags": []
          },
          "execution_count": 90
        }
      ]
    },
    {
      "cell_type": "code",
      "metadata": {
        "id": "IfL4rp1WtNSk"
      },
      "source": [
        "for i in range(0,len(pred)):\n",
        "  tmp = {}\n",
        "  for j in range(0,5):\n",
        "    if pred[i][j] in tmp:\n",
        "      tmp[pred[i][j]] += 1\n",
        "    else:\n",
        "      tmp[pred[i][j]] = 1\n",
        "  for k in tmp.keys():\n",
        "    if(tmp[k]>=3):\n",
        "      pred_final[i] = k"
      ],
      "execution_count": 98,
      "outputs": []
    },
    {
      "cell_type": "code",
      "metadata": {
        "id": "iLslNzZyz1KI",
        "outputId": "c9ca02b7-30c2-4c8b-9b9f-06bce8fe5f5d",
        "colab": {
          "base_uri": "https://localhost:8080/",
          "height": 35
        }
      },
      "source": [
        "pred_final"
      ],
      "execution_count": 99,
      "outputs": [
        {
          "output_type": "execute_result",
          "data": {
            "text/plain": [
              "array(['HI', 'EL', 'HI', ..., 'PH', 'PH', 'HI'], dtype=object)"
            ]
          },
          "metadata": {
            "tags": []
          },
          "execution_count": 99
        }
      ]
    },
    {
      "cell_type": "code",
      "metadata": {
        "id": "dTnWfAHmoQCC",
        "outputId": "5d98a536-5dfa-4d5a-b15f-3bf5d4cd16b2",
        "colab": {
          "base_uri": "https://localhost:8080/",
          "height": 35
        }
      },
      "source": [
        "pred_final.shape"
      ],
      "execution_count": 100,
      "outputs": [
        {
          "output_type": "execute_result",
          "data": {
            "text/plain": [
              "(1833,)"
            ]
          },
          "metadata": {
            "tags": []
          },
          "execution_count": 100
        }
      ]
    },
    {
      "cell_type": "code",
      "metadata": {
        "id": "_hguRwVVX4KG"
      },
      "source": [
        "lr_final = LogisticRegression()"
      ],
      "execution_count": 26,
      "outputs": []
    },
    {
      "cell_type": "code",
      "metadata": {
        "id": "JyA_6U7qgoYK",
        "outputId": "49613cc9-8263-4b8b-9c63-b68c29f50af5",
        "colab": {
          "base_uri": "https://localhost:8080/",
          "height": 322
        }
      },
      "source": [
        "lr_final.fit(pred, test_y)"
      ],
      "execution_count": 31,
      "outputs": [
        {
          "output_type": "error",
          "ename": "ValueError",
          "evalue": "ignored",
          "traceback": [
            "\u001b[0;31m---------------------------------------------------------------------------\u001b[0m",
            "\u001b[0;31mValueError\u001b[0m                                Traceback (most recent call last)",
            "\u001b[0;32m<ipython-input-31-ccac58851415>\u001b[0m in \u001b[0;36m<module>\u001b[0;34m()\u001b[0m\n\u001b[0;32m----> 1\u001b[0;31m \u001b[0mlr_final\u001b[0m\u001b[0;34m.\u001b[0m\u001b[0mfit\u001b[0m\u001b[0;34m(\u001b[0m\u001b[0mpred\u001b[0m\u001b[0;34m,\u001b[0m \u001b[0mtest_y\u001b[0m\u001b[0;34m)\u001b[0m\u001b[0;34m\u001b[0m\u001b[0;34m\u001b[0m\u001b[0m\n\u001b[0m",
            "\u001b[0;32m/usr/local/lib/python3.6/dist-packages/sklearn/linear_model/_logistic.py\u001b[0m in \u001b[0;36mfit\u001b[0;34m(self, X, y, sample_weight)\u001b[0m\n\u001b[1;32m   1525\u001b[0m \u001b[0;34m\u001b[0m\u001b[0m\n\u001b[1;32m   1526\u001b[0m         X, y = check_X_y(X, y, accept_sparse='csr', dtype=_dtype, order=\"C\",\n\u001b[0;32m-> 1527\u001b[0;31m                          accept_large_sparse=solver != 'liblinear')\n\u001b[0m\u001b[1;32m   1528\u001b[0m         \u001b[0mcheck_classification_targets\u001b[0m\u001b[0;34m(\u001b[0m\u001b[0my\u001b[0m\u001b[0;34m)\u001b[0m\u001b[0;34m\u001b[0m\u001b[0;34m\u001b[0m\u001b[0m\n\u001b[1;32m   1529\u001b[0m         \u001b[0mself\u001b[0m\u001b[0;34m.\u001b[0m\u001b[0mclasses_\u001b[0m \u001b[0;34m=\u001b[0m \u001b[0mnp\u001b[0m\u001b[0;34m.\u001b[0m\u001b[0munique\u001b[0m\u001b[0;34m(\u001b[0m\u001b[0my\u001b[0m\u001b[0;34m)\u001b[0m\u001b[0;34m\u001b[0m\u001b[0;34m\u001b[0m\u001b[0m\n",
            "\u001b[0;32m/usr/local/lib/python3.6/dist-packages/sklearn/utils/validation.py\u001b[0m in \u001b[0;36mcheck_X_y\u001b[0;34m(X, y, accept_sparse, accept_large_sparse, dtype, order, copy, force_all_finite, ensure_2d, allow_nd, multi_output, ensure_min_samples, ensure_min_features, y_numeric, warn_on_dtype, estimator)\u001b[0m\n\u001b[1;32m    753\u001b[0m                     \u001b[0mensure_min_features\u001b[0m\u001b[0;34m=\u001b[0m\u001b[0mensure_min_features\u001b[0m\u001b[0;34m,\u001b[0m\u001b[0;34m\u001b[0m\u001b[0;34m\u001b[0m\u001b[0m\n\u001b[1;32m    754\u001b[0m                     \u001b[0mwarn_on_dtype\u001b[0m\u001b[0;34m=\u001b[0m\u001b[0mwarn_on_dtype\u001b[0m\u001b[0;34m,\u001b[0m\u001b[0;34m\u001b[0m\u001b[0;34m\u001b[0m\u001b[0m\n\u001b[0;32m--> 755\u001b[0;31m                     estimator=estimator)\n\u001b[0m\u001b[1;32m    756\u001b[0m     \u001b[0;32mif\u001b[0m \u001b[0mmulti_output\u001b[0m\u001b[0;34m:\u001b[0m\u001b[0;34m\u001b[0m\u001b[0;34m\u001b[0m\u001b[0m\n\u001b[1;32m    757\u001b[0m         y = check_array(y, 'csr', force_all_finite=True, ensure_2d=False,\n",
            "\u001b[0;32m/usr/local/lib/python3.6/dist-packages/sklearn/utils/validation.py\u001b[0m in \u001b[0;36mcheck_array\u001b[0;34m(array, accept_sparse, accept_large_sparse, dtype, order, copy, force_all_finite, ensure_2d, allow_nd, ensure_min_samples, ensure_min_features, warn_on_dtype, estimator)\u001b[0m\n\u001b[1;32m    529\u001b[0m                     \u001b[0marray\u001b[0m \u001b[0;34m=\u001b[0m \u001b[0marray\u001b[0m\u001b[0;34m.\u001b[0m\u001b[0mastype\u001b[0m\u001b[0;34m(\u001b[0m\u001b[0mdtype\u001b[0m\u001b[0;34m,\u001b[0m \u001b[0mcasting\u001b[0m\u001b[0;34m=\u001b[0m\u001b[0;34m\"unsafe\"\u001b[0m\u001b[0;34m,\u001b[0m \u001b[0mcopy\u001b[0m\u001b[0;34m=\u001b[0m\u001b[0;32mFalse\u001b[0m\u001b[0;34m)\u001b[0m\u001b[0;34m\u001b[0m\u001b[0;34m\u001b[0m\u001b[0m\n\u001b[1;32m    530\u001b[0m                 \u001b[0;32melse\u001b[0m\u001b[0;34m:\u001b[0m\u001b[0;34m\u001b[0m\u001b[0;34m\u001b[0m\u001b[0m\n\u001b[0;32m--> 531\u001b[0;31m                     \u001b[0marray\u001b[0m \u001b[0;34m=\u001b[0m \u001b[0mnp\u001b[0m\u001b[0;34m.\u001b[0m\u001b[0masarray\u001b[0m\u001b[0;34m(\u001b[0m\u001b[0marray\u001b[0m\u001b[0;34m,\u001b[0m \u001b[0morder\u001b[0m\u001b[0;34m=\u001b[0m\u001b[0morder\u001b[0m\u001b[0;34m,\u001b[0m \u001b[0mdtype\u001b[0m\u001b[0;34m=\u001b[0m\u001b[0mdtype\u001b[0m\u001b[0;34m)\u001b[0m\u001b[0;34m\u001b[0m\u001b[0;34m\u001b[0m\u001b[0m\n\u001b[0m\u001b[1;32m    532\u001b[0m             \u001b[0;32mexcept\u001b[0m \u001b[0mComplexWarning\u001b[0m\u001b[0;34m:\u001b[0m\u001b[0;34m\u001b[0m\u001b[0;34m\u001b[0m\u001b[0m\n\u001b[1;32m    533\u001b[0m                 raise ValueError(\"Complex data not supported\\n\"\n",
            "\u001b[0;32m/usr/local/lib/python3.6/dist-packages/numpy/core/_asarray.py\u001b[0m in \u001b[0;36masarray\u001b[0;34m(a, dtype, order)\u001b[0m\n\u001b[1;32m     83\u001b[0m \u001b[0;34m\u001b[0m\u001b[0m\n\u001b[1;32m     84\u001b[0m     \"\"\"\n\u001b[0;32m---> 85\u001b[0;31m     \u001b[0;32mreturn\u001b[0m \u001b[0marray\u001b[0m\u001b[0;34m(\u001b[0m\u001b[0ma\u001b[0m\u001b[0;34m,\u001b[0m \u001b[0mdtype\u001b[0m\u001b[0;34m,\u001b[0m \u001b[0mcopy\u001b[0m\u001b[0;34m=\u001b[0m\u001b[0;32mFalse\u001b[0m\u001b[0;34m,\u001b[0m \u001b[0morder\u001b[0m\u001b[0;34m=\u001b[0m\u001b[0morder\u001b[0m\u001b[0;34m)\u001b[0m\u001b[0;34m\u001b[0m\u001b[0;34m\u001b[0m\u001b[0m\n\u001b[0m\u001b[1;32m     86\u001b[0m \u001b[0;34m\u001b[0m\u001b[0m\n\u001b[1;32m     87\u001b[0m \u001b[0;34m\u001b[0m\u001b[0m\n",
            "\u001b[0;31mValueError\u001b[0m: could not convert string to float: 'MI'"
          ]
        }
      ]
    },
    {
      "cell_type": "code",
      "metadata": {
        "id": "Gc1ItXhhh7YS"
      },
      "source": [
        "vot = VotingClassifier(estimators=[('rf',RandomForestClassifier()),\n",
        "                                   ('lgbm',LGBMClassifier(random_state=0)),\n",
        "                                   ('lgbm2',LGBMClassifier(random_state=42)),\n",
        "                                   ('lgbm3',LGBMClassifier(random_state=1234)),\n",
        "                                   ('xgb',XGBClassifier()),\n",
        "                                   ('Knn',KNeighborsClassifier()),\n",
        "                                   ('Gr',GradientBoostingClassifier()),\n",
        "                                   ('DT',DecisionTreeClassifier()),\n",
        "                                   ('svc',SVC())],voting='hard')"
      ],
      "execution_count": null,
      "outputs": []
    },
    {
      "cell_type": "code",
      "metadata": {
        "id": "vz9Ng2Gj9tLV"
      },
      "source": [
        "from sklearn.model_selection import KFold"
      ],
      "execution_count": 10,
      "outputs": []
    },
    {
      "cell_type": "code",
      "metadata": {
        "id": "T2NpbJss-FiW"
      },
      "source": [
        "kf = KFold(n_splits=55,shuffle=True)"
      ],
      "execution_count": 57,
      "outputs": []
    },
    {
      "cell_type": "code",
      "metadata": {
        "id": "EWOBFFscoqtf"
      },
      "source": [
        "model = LGBMClassifier(n_estimators=311,min_samples_leaf=1,min_samples_split=2,max_features='sqrt',max_depth=50)"
      ],
      "execution_count": 54,
      "outputs": []
    },
    {
      "cell_type": "code",
      "metadata": {
        "id": "TaRY8oAy9t9Z",
        "outputId": "411385cd-1738-47bd-c229-cfdff1dde227",
        "colab": {
          "base_uri": "https://localhost:8080/",
          "height": 1000
        }
      },
      "source": [
        "i = 0\n",
        "acc = np.zeros(55)\n",
        "best_train_x = []\n",
        "best_test_x = []\n",
        "best_train_y = []\n",
        "best_test_y = []\n",
        "max = 0\n",
        "for train_index, test_index in kf.split(df_x):\n",
        "    #print(\"fold:\", i)\n",
        "    train_x, test_x = df_x.iloc[train_index,:], df_x.iloc[test_index,:]\n",
        "    #train_x, test_x = x_scaled[train_index,:], x_scaled[test_index,:]   \n",
        "    train_y, test_y = df_y[train_index], df_y[test_index]\n",
        "    model.fit(train_x, train_y)\n",
        "    pred_y = model.predict(test_x)\n",
        "    acc[i] = accuracy_score(test_y, pred_y)\n",
        "    print(acc[i])\n",
        "    if max<acc[i]:\n",
        "      max = acc[i]\n",
        "      best_train_x = train_x\n",
        "      best_test_x = test_x\n",
        "      best_train_y = train_y\n",
        "      best_test_y = test_y\n",
        "    i+=1\n",
        "print(\"10 fold :\", acc)\n",
        "print(\"mean accuracy :\", np.mean(acc))\n",
        "print(max)"
      ],
      "execution_count": 58,
      "outputs": [
        {
          "output_type": "stream",
          "text": [
            "0.9102564102564102\n",
            "0.9230769230769231\n",
            "0.8846153846153846\n",
            "0.8846153846153846\n",
            "0.9487179487179487\n",
            "0.8589743589743589\n",
            "0.9487179487179487\n",
            "0.9102564102564102\n",
            "0.8846153846153846\n",
            "0.9102564102564102\n",
            "0.9358974358974359\n",
            "0.8461538461538461\n",
            "0.9358974358974359\n",
            "0.9102564102564102\n",
            "0.9358974358974359\n",
            "0.9358974358974359\n",
            "0.9230769230769231\n",
            "0.8974358974358975\n",
            "0.9102564102564102\n",
            "0.9102564102564102\n",
            "0.9487179487179487\n",
            "0.8974358974358975\n",
            "0.9230769230769231\n",
            "0.8974358974358975\n",
            "0.9102564102564102\n",
            "0.9615384615384616\n",
            "0.9358974358974359\n",
            "0.9230769230769231\n",
            "0.9102564102564102\n",
            "0.9358974358974359\n",
            "0.8974358974358975\n",
            "0.9487179487179487\n",
            "0.9102564102564102\n",
            "0.9358974358974359\n",
            "0.9102564102564102\n",
            "0.9102564102564102\n",
            "0.9102564102564102\n",
            "0.9358974358974359\n",
            "0.9487179487179487\n",
            "0.9358974358974359\n",
            "0.9230769230769231\n",
            "0.8974358974358975\n",
            "0.8717948717948718\n",
            "0.8846153846153846\n",
            "0.9358974358974359\n",
            "0.8961038961038961\n",
            "0.935064935064935\n",
            "0.935064935064935\n",
            "0.974025974025974\n",
            "0.8961038961038961\n",
            "0.9090909090909091\n",
            "0.8831168831168831\n",
            "0.922077922077922\n",
            "0.8831168831168831\n",
            "0.961038961038961\n",
            "10 fold : [0.91025641 0.92307692 0.88461538 0.88461538 0.94871795 0.85897436\n",
            " 0.94871795 0.91025641 0.88461538 0.91025641 0.93589744 0.84615385\n",
            " 0.93589744 0.91025641 0.93589744 0.93589744 0.92307692 0.8974359\n",
            " 0.91025641 0.91025641 0.94871795 0.8974359  0.92307692 0.8974359\n",
            " 0.91025641 0.96153846 0.93589744 0.92307692 0.91025641 0.93589744\n",
            " 0.8974359  0.94871795 0.91025641 0.93589744 0.91025641 0.91025641\n",
            " 0.91025641 0.93589744 0.94871795 0.93589744 0.92307692 0.8974359\n",
            " 0.87179487 0.88461538 0.93589744 0.8961039  0.93506494 0.93506494\n",
            " 0.97402597 0.8961039  0.90909091 0.88311688 0.92207792 0.88311688\n",
            " 0.96103896]\n",
            "mean accuracy : 0.9163624254533346\n",
            "0.974025974025974\n"
          ],
          "name": "stdout"
        }
      ]
    },
    {
      "cell_type": "code",
      "metadata": {
        "id": "IK8Tp84bDrie"
      },
      "source": [
        "model.fit(best_train_x, best_train_y)\n",
        "pred_y = model.predict(best_test_x)\n",
        "print(pred_y)\n",
        "print(len(pred_y))\n",
        "print(accuracy_score(best_test_y,pred_y))"
      ],
      "execution_count": null,
      "outputs": []
    },
    {
      "cell_type": "code",
      "metadata": {
        "id": "yvDXk9QG_7j2",
        "outputId": "4ab0d6cc-bad2-4c93-ff76-30f25b7dd853",
        "colab": {
          "base_uri": "https://localhost:8080/",
          "height": 161
        }
      },
      "source": [
        "model = LGBMClassifier(n_estimators=311,min_samples_leaf=1,min_samples_split=1,max_features='sqrt',max_depth=50,bootstrap='false')\n",
        "model.fit(best_train_x, best_train_y)\n",
        "pred_y = model.predict(best_test_x)\n",
        "print(pred_y)\n",
        "print(len(pred_y))\n",
        "print(accuracy_score(best_test_y,pred_y))"
      ],
      "execution_count": null,
      "outputs": [
        {
          "output_type": "stream",
          "text": [
            "['HI' 'MI' 'EL' 'HI' 'HI' 'PH' 'HI' 'GR' 'MI' 'EL' 'MI' 'PH' 'PH' 'CO'\n",
            " 'PH' 'CO' 'PH' 'EL' 'HI' 'HI' 'EL' 'MI' 'GR' 'HI' 'PH' 'GR' 'HI' 'EL'\n",
            " 'PH' 'GR' 'MI' 'EL' 'GR' 'CO' 'EL' 'GR' 'EL' 'EL' 'CO' 'GR' 'EL' 'GR'\n",
            " 'PH' 'HI' 'GR' 'MI' 'HI' 'EL' 'CO' 'PH' 'HI' 'PH' 'HI' 'EL' 'HI' 'EL'\n",
            " 'EL' 'GR' 'HI' 'CO' 'EL' 'EL' 'HI' 'MI' 'HI' 'PH' 'CO' 'EL' 'CO' 'CO'\n",
            " 'EL']\n",
            "71\n",
            "0.971830985915493\n"
          ],
          "name": "stdout"
        }
      ]
    },
    {
      "cell_type": "code",
      "metadata": {
        "id": "pXVFAxfVi6Iw"
      },
      "source": [
        "vot.fit(train_x, train_y)\n",
        "pred_y = model.predict(test_x)\n",
        "print(pred_y)\n",
        "print(accuracy_score(test_y,pred_y))"
      ],
      "execution_count": null,
      "outputs": []
    },
    {
      "cell_type": "code",
      "metadata": {
        "id": "T3dm7o-ppAa9",
        "outputId": "ceb237b0-7660-43db-d03e-09ef60d66ea7",
        "colab": {
          "resources": {
            "http://localhost:8080/nbextensions/google.colab/files.js": {
              "data": "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",
              "ok": true,
              "headers": [
                [
                  "content-type",
                  "application/javascript"
                ]
              ],
              "status": 200,
              "status_text": ""
            }
          },
          "base_uri": "https://localhost:8080/",
          "height": 76
        }
      },
      "source": [
        "uploaded = files.upload()"
      ],
      "execution_count": 33,
      "outputs": [
        {
          "output_type": "display_data",
          "data": {
            "text/html": [
              "\n",
              "     <input type=\"file\" id=\"files-2cb7876a-c76c-4063-9333-2651367f4e95\" name=\"files[]\" multiple disabled\n",
              "        style=\"border:none\" />\n",
              "     <output id=\"result-2cb7876a-c76c-4063-9333-2651367f4e95\">\n",
              "      Upload widget is only available when the cell has been executed in the\n",
              "      current browser session. Please rerun this cell to enable.\n",
              "      </output>\n",
              "      <script src=\"/nbextensions/google.colab/files.js\"></script> "
            ],
            "text/plain": [
              "<IPython.core.display.HTML object>"
            ]
          },
          "metadata": {
            "tags": []
          }
        },
        {
          "output_type": "stream",
          "text": [
            "Saving testset.csv to testset.csv\n"
          ],
          "name": "stdout"
        }
      ]
    },
    {
      "cell_type": "code",
      "metadata": {
        "id": "LucMBzuhpKIC"
      },
      "source": [
        "testset = pd.read_csv(io.StringIO(uploaded['testset.csv'].decode('utf-8')))"
      ],
      "execution_count": 34,
      "outputs": []
    },
    {
      "cell_type": "code",
      "metadata": {
        "id": "OUeRbcNu3kPj"
      },
      "source": [
        "testset"
      ],
      "execution_count": null,
      "outputs": []
    },
    {
      "cell_type": "code",
      "metadata": {
        "id": "Lkdhksmdpg0d",
        "outputId": "c4311a2b-f47b-4af9-8b15-a9788adb3b5e",
        "colab": {
          "base_uri": "https://localhost:8080/",
          "height": 53
        }
      },
      "source": [
        "#model = LGBMClassifier(n_estimators=311,min_samples_leaf=1,min_samples_split=2,max_features='sqrt',max_depth=50,bootstrap='false')\n",
        "#model = LGBMClassifier(n_estimators=1000,min_samples_leaf=1,min_samples_split=2,max_features='auto',max_depth=50,bootstrap='false')\n",
        "#model = XGBClassifier(n_estimators=1000,min_samples_leaf=1,min_samples_split=2,max_features='auto',max_depth=50,bootstrap='false')\n",
        "#model.fit(best_train_x, best_train_y)\n",
        "pred_y = model.predict(testset)\n",
        "#pred_y = model.predict_proba(testset)\n",
        "print(pred_y)\n",
        "print(pred_y.shape)\n"
      ],
      "execution_count": 50,
      "outputs": [
        {
          "output_type": "stream",
          "text": [
            "['HI' 'EL' 'HI' ... 'PH' 'PH' 'HI']\n",
            "(1833,)\n"
          ],
          "name": "stdout"
        }
      ]
    },
    {
      "cell_type": "code",
      "metadata": {
        "id": "T6rpBEbTwtyo"
      },
      "source": [
        "a = pd.DataFrame(pred_y)\n",
        "a.to_csv(\"32152076_배수민.csv\", index = False, header = False)"
      ],
      "execution_count": null,
      "outputs": []
    },
    {
      "cell_type": "code",
      "metadata": {
        "id": "kl5TdKbhqqw5"
      },
      "source": [
        "import xlwt, xlrd"
      ],
      "execution_count": 101,
      "outputs": []
    },
    {
      "cell_type": "code",
      "metadata": {
        "id": "vvfoFVioqv8f"
      },
      "source": [
        "file_name = '32152076_배수민.xls'"
      ],
      "execution_count": 102,
      "outputs": []
    },
    {
      "cell_type": "code",
      "metadata": {
        "id": "fjKs8jVAqzQ5"
      },
      "source": [
        "wb = xlwt.Workbook()"
      ],
      "execution_count": 103,
      "outputs": []
    },
    {
      "cell_type": "code",
      "metadata": {
        "id": "z9wQl3pnrPIH"
      },
      "source": [
        "ws_1 = wb.add_sheet('sheet0',cell_overwrite_ok=False)"
      ],
      "execution_count": 104,
      "outputs": []
    },
    {
      "cell_type": "code",
      "metadata": {
        "id": "_vxr5OS8rVhD"
      },
      "source": [
        "ws_1 = wb.get_sheet(0)"
      ],
      "execution_count": 105,
      "outputs": []
    },
    {
      "cell_type": "code",
      "metadata": {
        "id": "qay7R8z1rmap"
      },
      "source": [
        "idx = 0"
      ],
      "execution_count": 106,
      "outputs": []
    },
    {
      "cell_type": "code",
      "metadata": {
        "id": "w8knDpZRretX"
      },
      "source": [
        "#ws_1.write(0,0,'a')\n",
        "for i in range(0,len(pred_final)):\n",
        "  ws_1.write(idx,0,pred_final[i])\n",
        "  idx+=1"
      ],
      "execution_count": 107,
      "outputs": []
    },
    {
      "cell_type": "code",
      "metadata": {
        "id": "eVcYHioiruE0",
        "outputId": "de64af4c-b969-4124-9164-c00619b76b78",
        "colab": {
          "base_uri": "https://localhost:8080/",
          "height": 17
        }
      },
      "source": [
        "wb.save(file_name)\n",
        "files.download(file_name)"
      ],
      "execution_count": 108,
      "outputs": [
        {
          "output_type": "display_data",
          "data": {
            "application/javascript": [
              "\n",
              "    async function download(id, filename, size) {\n",
              "      if (!google.colab.kernel.accessAllowed) {\n",
              "        return;\n",
              "      }\n",
              "      const div = document.createElement('div');\n",
              "      const label = document.createElement('label');\n",
              "      label.textContent = `Downloading \"${filename}\": `;\n",
              "      div.appendChild(label);\n",
              "      const progress = document.createElement('progress');\n",
              "      progress.max = size;\n",
              "      div.appendChild(progress);\n",
              "      document.body.appendChild(div);\n",
              "\n",
              "      const buffers = [];\n",
              "      let downloaded = 0;\n",
              "\n",
              "      const channel = await google.colab.kernel.comms.open(id);\n",
              "      // Send a message to notify the kernel that we're ready.\n",
              "      channel.send({})\n",
              "\n",
              "      for await (const message of channel.messages) {\n",
              "        // Send a message to notify the kernel that we're ready.\n",
              "        channel.send({})\n",
              "        if (message.buffers) {\n",
              "          for (const buffer of message.buffers) {\n",
              "            buffers.push(buffer);\n",
              "            downloaded += buffer.byteLength;\n",
              "            progress.value = downloaded;\n",
              "          }\n",
              "        }\n",
              "      }\n",
              "      const blob = new Blob(buffers, {type: 'application/binary'});\n",
              "      const a = document.createElement('a');\n",
              "      a.href = window.URL.createObjectURL(blob);\n",
              "      a.download = filename;\n",
              "      div.appendChild(a);\n",
              "      a.click();\n",
              "      div.remove();\n",
              "    }\n",
              "  "
            ],
            "text/plain": [
              "<IPython.core.display.Javascript object>"
            ]
          },
          "metadata": {
            "tags": []
          }
        },
        {
          "output_type": "display_data",
          "data": {
            "application/javascript": [
              "download(\"download_ec14ef8a-4af1-4251-8e0d-4745e8a65796\", \"32152076_\\ubc30\\uc218\\ubbfc.xls\", 67584)"
            ],
            "text/plain": [
              "<IPython.core.display.Javascript object>"
            ]
          },
          "metadata": {
            "tags": []
          }
        }
      ]
    },
    {
      "cell_type": "code",
      "metadata": {
        "id": "lCRX9owdtUA8",
        "outputId": "fb0a7686-bcae-4612-9233-180e776c2b23",
        "colab": {
          "base_uri": "https://localhost:8080/",
          "height": 53
        }
      },
      "source": [
        "print(len(testset))\n",
        "print(len(pred_y))"
      ],
      "execution_count": null,
      "outputs": [
        {
          "output_type": "stream",
          "text": [
            "1833\n",
            "1833\n"
          ],
          "name": "stdout"
        }
      ]
    }
  ]
}