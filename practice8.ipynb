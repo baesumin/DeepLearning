{
  "nbformat": 4,
  "nbformat_minor": 0,
  "metadata": {
    "colab": {
      "name": "practice8.ipynb",
      "provenance": [],
      "authorship_tag": "ABX9TyMqvdLg/MGDZHIUKdLU690Y",
      "include_colab_link": true
    },
    "kernelspec": {
      "name": "python3",
      "display_name": "Python 3"
    },
    "accelerator": "GPU"
  },
  "cells": [
    {
      "cell_type": "markdown",
      "metadata": {
        "id": "view-in-github",
        "colab_type": "text"
      },
      "source": [
        "<a href=\"https://colab.research.google.com/github/baesumin/DeepLearning/blob/main/practice8.ipynb\" target=\"_parent\"><img src=\"https://colab.research.google.com/assets/colab-badge.svg\" alt=\"Open In Colab\"/></a>"
      ]
    },
    {
      "cell_type": "code",
      "metadata": {
        "id": "9cnY66clEzkg"
      },
      "source": [
        "import numpy as np"
      ],
      "execution_count": 1,
      "outputs": []
    },
    {
      "cell_type": "code",
      "metadata": {
        "id": "wX-LFTrIR7Ng"
      },
      "source": [
        "W = np.array([0.4, 0.7, 0.8])\n",
        "a = 0.5"
      ],
      "execution_count": 16,
      "outputs": []
    },
    {
      "cell_type": "code",
      "metadata": {
        "id": "EOgj1N6cIh1u"
      },
      "source": [
        "def myNN(W):\n",
        "  x = np.array([0.5, 0.8, 0.2])\n",
        "  v = np.sum(x * W)\n",
        "  print('e = {0}'.format(abs(1-v)))\n",
        "  tmpW = np.zeros(3)\n",
        "  for i in range(3):\n",
        "    tmpW[i] = a*abs(1-v)*x[i]\n",
        "    print('aex{0} = {1}'.format(i+1,tmpW[i]),end=' ')\n",
        "    W[i] += tmpW[i]\n",
        "    print('W{0} = {1}'.format(i+1,W[i]))"
      ],
      "execution_count": 51,
      "outputs": []
    },
    {
      "cell_type": "code",
      "metadata": {
        "id": "SgpWrZGlR9dm"
      },
      "source": [
        "for i in range(10):\n",
        "  print('Repeat {0}'.format(i+1))\n",
        "  print(myNN(W))"
      ],
      "execution_count": null,
      "outputs": []
    },
    {
      "cell_type": "code",
      "metadata": {
        "id": "BXIePfiyRJlJ"
      },
      "source": [
        "x = np.array([0.5, 0.8, 0.2])\n",
        "w = np.array([0.4, 0.7, 0.8])\n",
        "d = 1\n",
        "alpha = 0.5\n",
        "def SIGMOID(x):\n",
        "  return 1/(1+np.exp(-x))\n",
        "for i in range(50):\n",
        "  v = np.sum(x * w)\n",
        "  y = SIGMOID(v)\n",
        "  e = d - y\n",
        "  print(\"error\",i,e)\n",
        "  w = w + alpha*y*(1-y)*e*x\n",
        "  "
      ],
      "execution_count": null,
      "outputs": []
    },
    {
      "cell_type": "code",
      "metadata": {
        "id": "d2k_79ptr1ja",
        "outputId": "fabeb598-c737-4bde-dda7-125954067d9b",
        "colab": {
          "base_uri": "https://localhost:8080/"
        }
      },
      "source": [
        "from sklearn import datasets\n",
        "import random \n",
        "import numpy as np\n",
        "\n",
        "def SIGMOID(x):\n",
        "  return 1/(1+np.exp(-x))\n",
        "# SLP function #########################################\n",
        "def SLP_SGD(tr_X, tr_y, alpha, rep):\n",
        "  #initialize w\n",
        "  n = tr_X.shape[1] * tr_y.shape[1]\n",
        "  random.seed= 123\n",
        "  w = random.sample(range(1,100), n)\n",
        "  w = (np.array(w)-50)/100\n",
        "  w = w.reshape(tr_X.shape[1],-1)\n",
        "  # update w\n",
        "  for i in range(rep):\n",
        "    for k in range(tr_X.shape[0]):\n",
        "      x = tr_X[k,:]\n",
        "      v = np.matmul(x, w)\n",
        "      y = SIGMOID(v)\n",
        "      e = tr_y[k,:] -y\n",
        "      w = w + alpha * np.matmul(tr_X[k,:].reshape(-1,1), (y*(1-y)*e).reshape(1,-1))\n",
        "    #print(\"error\",i,np.mean(e))\n",
        "  return w\n",
        "\n",
        "## prepare dataset #####################################\n",
        "iris = datasets.load_iris()\n",
        "X = iris.data\n",
        "target = iris.target\n",
        "# one hot encoding\n",
        "num = np.unique(target, axis=0)\n",
        "num = num.shape[0]\n",
        "y = np.eye(num)[target]\n",
        "## Training (get W) ####################################\n",
        "W = SLP_SGD(X, y,  alpha=0.01, rep=600)\n",
        "\n",
        "## Test #############################################\n",
        "pred= np.zeros(X.shape[0])\n",
        "for i in range(X.shape[0]):\n",
        "  v =  np.matmul(X[i,:],W)\n",
        "  y = SIGMOID(v)\n",
        "  pred[i] = np.argmax(y)\n",
        "  #print(\"target, predict\", target[i], pred[i])\n",
        "print(\"accuracy :\", np.mean(pred==target))\n"
      ],
      "execution_count": 5,
      "outputs": [
        {
          "output_type": "stream",
          "text": [
            "accuracy : 0.8866666666666667\n"
          ],
          "name": "stdout"
        }
      ]
    }
  ]
}